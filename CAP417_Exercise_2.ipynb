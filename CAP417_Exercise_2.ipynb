{
  "nbformat": 4,
  "nbformat_minor": 0,
  "metadata": {
    "colab": {
      "name": "CAP417 - Exercise 2.ipynb",
      "provenance": [],
      "collapsed_sections": [
        "wtBnmBbds_WS",
        "dOJlWRBethKp",
        "gMf4VZcxvcQH",
        "hkwXBR3Xvs60",
        "0NMtcht2wtQy",
        "-gpHo86R2G9R"
      ],
      "toc_visible": true,
      "authorship_tag": "ABX9TyOuxLShmgitPqNGAfOEmhAO",
      "include_colab_link": true
    },
    "kernelspec": {
      "name": "python3",
      "display_name": "Python 3"
    },
    "language_info": {
      "name": "python"
    }
  },
  "cells": [
    {
      "cell_type": "markdown",
      "metadata": {
        "id": "view-in-github",
        "colab_type": "text"
      },
      "source": [
        "<a href=\"https://colab.research.google.com/github/barauna-lo/Computational_Statistics/blob/main/CAP417_Exercise_2.ipynb\" target=\"_parent\"><img src=\"https://colab.research.google.com/assets/colab-badge.svg\" alt=\"Open In Colab\"/></a>"
      ]
    },
    {
      "cell_type": "markdown",
      "source": [
        "[<img src=https://raw.githubusercontent.com/barauna-lo/CAP4213-Deep-Learning/main/logoinpe.png align=”middle”>](https://www.gov.br/inpe/pt-br)\n",
        "\n",
        "[<center><img src=\"https://github.com/barauna-lo/CAP4213-Deep-Learning/blob/main/LogoCAP.png?raw=true\" width = 500 align=\"middle\"></center>](http://www.inpe.br/posgraduacao/cap/)\n",
        "\n",
        "\n",
        "# CAP-345-3 - Computational Estatistis\n",
        "\n",
        "* Luan Orion Baraúna\n",
        "\n",
        "These code was provide for [this](https://github.com/vsantjr/CAP/blob/master/CAP417/Material/CAP-417_Estatistica%20Computacional_Prof%20Valdivino_A03.ipynb) course. \n",
        "\n",
        "\n"
      ],
      "metadata": {
        "id": "sCXzooBDAhwD"
      }
    },
    {
      "cell_type": "markdown",
      "source": [
        "## Exercice 2 - Pratical\n",
        "The Global Precipitation Climatology Project (GPCP) is used as a reference dataset for accomplishing climate precipitation prediction. Consider part of one GPCP's dataset shown [here](https://github.com/vsantjr/CAP/blob/master/CAP417/GPCP/gpcp_1980-2016.xlsx). It has monthly data from 1980 to 2016.\n",
        "\n",
        "The only relevant variable of this dataset for this exercise is press, the surface pressure (in millibars). Hence, each row in this dataset has data acquired in a location (latitude, longitude), in a certain year and month. Hence, first entry shows that in january/1980 in the specificied location (latitude and longitude), surface pressure (press) is 993.735 millibars, and in february/1980, in the same location, surface pressure is 995.384 millibars, and so on.\n",
        "\n",
        "\n",
        "Note that the values of each variable, including press, are continuous (real numbers). But here, we will define a random variable representing the outcomes of high surface pressure measurements in one year. A high surface pressure happens when the pressure is greater than the average of surface pressure values considering all months, years, and locations.\n",
        "\n",
        "\n",
        "Note that the discrete random variable described above can be perfectly considered a Poisson random variable since it satisfies all the properties of the Poisson process.\n",
        "\n",
        "\n",
        "Develop a program that can answer the following questions:\n",
        "\n",
        "1. What is the probability that the outcomes of high surface pressure measurements in one year is greater than 5,600 (note: ',' means thousands)?\n",
        "2. What is the probability that the outcomes of high surface pressure measurements in one year is exactly 5,830?\n",
        "3. What is the probability that the outcomes of high surface pressure measurements in one year is less than or equal to 10,000?\n",
        "4. What is the probability that the outcomes of high surface pressure measurements in one year is greater than 5,900?\n",
        "5. Show the probability histogram for this problem.\n",
        "\n",
        "\n"
      ],
      "metadata": {
        "id": "JVNKWd-WCfjl"
      }
    },
    {
      "cell_type": "code",
      "source": [
        "#Import Librarys\n",
        "import pandas as pd\n",
        "from matplotlib import pyplot as plt\n",
        "from matplotlib import collections as matcoll\n",
        "import numpy as np\n",
        "from scipy.stats import poisson\n",
        "import math"
      ],
      "metadata": {
        "id": "RVn_QsBwNN3O"
      },
      "execution_count": null,
      "outputs": []
    },
    {
      "cell_type": "code",
      "source": [
        "#Reading the data from github\n",
        "df = pd.read_excel(\"https://raw.githubusercontent.com/vsantjr/CAP/master/CAP417/GPCP/gpcp_1980-2016.xlsx\")"
      ],
      "metadata": {
        "id": "xq4-JkEIIXem"
      },
      "execution_count": null,
      "outputs": []
    },
    {
      "cell_type": "markdown",
      "source": [
        "## 1 - What is the probability that the outcomes of high surface pressure measurements in one year is greater than 5,600 ?"
      ],
      "metadata": {
        "id": "wtBnmBbds_WS"
      }
    },
    {
      "cell_type": "code",
      "source": [
        "mu = int(df['press'].mean())\n",
        "k1 = 5600\n",
        "p1 = poisson.sf(k1, mu)\n",
        "print(f\"The probability of outcomes of high surface presure \\n measurments in one year is greater than 5,600 is {p1}\")"
      ],
      "metadata": {
        "colab": {
          "base_uri": "https://localhost:8080/"
        },
        "id": "U0FpdvhGtF2_",
        "outputId": "0d03f966-41fe-446f-e50c-760326948651"
      },
      "execution_count": null,
      "outputs": [
        {
          "output_type": "stream",
          "name": "stdout",
          "text": [
            "The probability of outcomes of high surface presure \n",
            " measurments in one year is greater than 5,600 is 0.0\n"
          ]
        }
      ]
    },
    {
      "cell_type": "markdown",
      "source": [
        "## 2 - What is the probability that the outcomes of high surface pressure measurements in one year is exactly 5,830?"
      ],
      "metadata": {
        "id": "dOJlWRBethKp"
      }
    },
    {
      "cell_type": "code",
      "source": [
        "k2 = 5830\n",
        "p2 = poisson.pmf(k2, mu)\n",
        "print(f\"The Probability of the outcomes of high surface presure \\nmeasurments in one year is = 5,830 is {p2}\")"
      ],
      "metadata": {
        "colab": {
          "base_uri": "https://localhost:8080/"
        },
        "id": "2ydt4dJntlHz",
        "outputId": "7c900f49-b820-4ed8-b726-a05a5b7ad3c2"
      },
      "execution_count": null,
      "outputs": [
        {
          "output_type": "stream",
          "name": "stdout",
          "text": [
            "The Probability of the outcomes of high surface presure \n",
            "measurments in one year is = 5,830 is 0.0\n"
          ]
        }
      ]
    },
    {
      "cell_type": "markdown",
      "source": [
        "## 3 - What is the probability that the outcomes of high surface pressure measurements in one year is less than or equal to 10,000?\n"
      ],
      "metadata": {
        "id": "gMf4VZcxvcQH"
      }
    },
    {
      "cell_type": "code",
      "source": [
        "# mathematically: k ≤ x\n",
        "# cdf P(X ≤ x)\n",
        "k3 = 10000\n",
        "p3 = poisson.cdf(k3, mu)\n",
        "print(f\"The probability of the outcomes of high surface \\npresure measurments in one year is ≤ 10,000 is {p3}\")"
      ],
      "metadata": {
        "colab": {
          "base_uri": "https://localhost:8080/"
        },
        "id": "xlMBKur9vgDE",
        "outputId": "88b80f1d-bdf9-41a2-ea28-b578a3cdc8ac"
      },
      "execution_count": null,
      "outputs": [
        {
          "output_type": "stream",
          "name": "stdout",
          "text": [
            "The probability of the outcomes of high surface \n",
            "presure measurments in one year is ≤ 10,000 is 1.0\n"
          ]
        }
      ]
    },
    {
      "cell_type": "markdown",
      "source": [
        "## 4 - What is the probability that the outcomes of high surface pressure measurements in one year is greater than 5,900?"
      ],
      "metadata": {
        "id": "hkwXBR3Xvs60"
      }
    },
    {
      "cell_type": "code",
      "source": [
        "# mathematically: k ≥ x\n",
        "# 1 - cdf P(X ≤ x)\n",
        "k4 = 5900\n",
        "p4 = poisson.sf(k4, mu)\n",
        "print(f\"The Probability of the outcomes of high surface presure\\nmeasurments in one year is greater than 5,600 is {p4}\")"
      ],
      "metadata": {
        "colab": {
          "base_uri": "https://localhost:8080/"
        },
        "id": "-mOnX0p8vqxv",
        "outputId": "bc0a3768-fe64-4bd5-81fb-f7f3d6347df7"
      },
      "execution_count": null,
      "outputs": [
        {
          "output_type": "stream",
          "name": "stdout",
          "text": [
            "The Probability of the outcomes of high surface presure\n",
            "measurments in one year is greater than 5,600 is 0.0\n"
          ]
        }
      ]
    },
    {
      "cell_type": "markdown",
      "source": [
        "## 5 - Show the probability histogram for this problem."
      ],
      "metadata": {
        "id": "0NMtcht2wtQy"
      }
    },
    {
      "cell_type": "code",
      "source": [
        "d1 = np.random.poisson(mu, 1000)\n",
        "\n",
        "#plot data distribuition\n",
        "fig = figsize=(18, 10)\n",
        "\n",
        "# set data\n",
        "plt.hist(d1, bins=100, density=True, color ='C0')\n",
        "\n",
        "# set text box and mean line\n",
        "mu = np.mean(d1)\n",
        "median = np.median(d1)\n",
        "sigma = np.std(d1)\n",
        "\n",
        "#textstr = '\\n'.join((r'$\\mu=%.2f$' % (mu, ), r'$\\mathrm{median}=%.2f$' % (median, ), r'$\\sigma=%.2f$' % (sigma, )))\n",
        "#props = dict(boxstyle='round', facecolor='wheat', alpha=0.5)\n",
        "#axs.text(1.1, 0.5, textstr, transform=axs.transAxes, fontsize=14, verticalalignment='bottom', bbox=props)  \n",
        "plt.axvline(mu, color='red', linestyle='dashed', linewidth=2,label='mean')\n",
        "plt.axvline(median, color='gold', linestyle='dashed', linewidth=2,label='median')\n",
        "plt.axvline(median + sigma, color='gray', linestyle='dashed', linewidth=2,label='std')\n",
        "plt.axvline(median - sigma, color='gray', linestyle='dashed', linewidth=2)\n",
        "\n",
        "#Create labels \n",
        "plt.xlabel('x')\n",
        "plt.ylabel('Frequency')\n",
        "\n",
        "# set title\n",
        "plt.title('Probability Distribution PMF ')\n",
        "plt.legend()\n",
        "plt.grid()\n",
        "plt.show()"
      ],
      "metadata": {
        "colab": {
          "base_uri": "https://localhost:8080/",
          "height": 295
        },
        "id": "qDlRO66G_N0u",
        "outputId": "83450ef2-5130-47cd-bc2c-89194aa5eda6"
      },
      "execution_count": null,
      "outputs": [
        {
          "output_type": "display_data",
          "data": {
            "text/plain": [
              "<Figure size 432x288 with 1 Axes>"
            ],
            "image/png": "[encoded data removed]"
          },
          "metadata": {
            "needs_background": "light"
          }
        }
      ]
    },
    {
      "cell_type": "markdown",
      "source": [
        "## 6 CDF and Inverse CDF"
      ],
      "metadata": {
        "id": "-gpHo86R2G9R"
      }
    },
    {
      "cell_type": "code",
      "source": [
        "a = np.arange(mu - 70, mu + 200)\n",
        "a = a.astype(int)\n",
        "d2 = poisson.cdf(a, mu) * 100\n",
        "d2 = d2.astype(int)\n",
        "\n",
        "b = np.arange(mu - 70, mu + 200)\n",
        "b = b.astype(int)\n",
        "d3 = poisson.sf(b, mu) * 100\n",
        "d3 = d3.astype(int)"
      ],
      "metadata": {
        "colab": {
          "base_uri": "https://localhost:8080/"
        },
        "id": "YArhQTVkxZqL",
        "outputId": "b09a6786-f210-4757-b7c0-0017c92b2510"
      },
      "execution_count": null,
      "outputs": [
        {
          "output_type": "execute_result",
          "data": {
            "text/plain": [
              "917"
            ]
          },
          "metadata": {},
          "execution_count": 9
        }
      ]
    },
    {
      "cell_type": "code",
      "source": [
        "fig, axs = plt.subplots(figsize=(18, 5))\n",
        "\n",
        "plt.subplot(1,2,1)\n",
        "plt.plot(a, d2,color='C0',label='CDF')\n",
        "#plt.plot(b, d3,color='red',label='Inverse CDF')\n",
        "plt.scatter(987, 51,color='g')\n",
        "plt.vlines(987, 0, 51, colors='g', lw=3, alpha=0.5)\n",
        "plt.xlim(xmin=915)\n",
        "plt.ylim(ymin=0, ymax=105)\n",
        "#plt.yticks(size=15) #SIZE OF TICKS\n",
        "plt.xlabel('x')\n",
        "plt.ylabel('Probability %')\n",
        "plt.title('CDF')\n",
        "plt.grid()\n",
        "plt.legend()\n",
        "\n",
        "\n",
        "\n",
        "plt.subplot(1,2,2)\n",
        "plt.plot(b, d3,color='C0',label='Inverse CDF')\n",
        "plt.scatter(987, 48,color='g')\n",
        "plt.vlines(987, 0, 49, colors='g', lw=3, alpha=0.5)\n",
        "\n",
        "#plt.spines['bottom'].set_position('zero')\n",
        "plt.xlim(xmin=915)\n",
        "\n",
        "#plt.yticks(size=15)\n",
        "plt.xlabel('x')\n",
        "plt.ylabel('Probability %')\n",
        "plt.title('Invese CDF')\n",
        "plt.grid()\n",
        "plt.legend()\n",
        "\n",
        "\n",
        "plt.show()"
      ],
      "metadata": {
        "colab": {
          "base_uri": "https://localhost:8080/",
          "height": 349
        },
        "id": "-7TdNCRl2Ohc",
        "outputId": "1e121f78-3af8-4f97-bf66-053e0e2358f4"
      },
      "execution_count": null,
      "outputs": [
        {
          "output_type": "display_data",
          "data": {
            "text/plain": [
              "<Figure size 1296x360 with 2 Axes>"
            ],
            "image/png": "[encoded data removed]"
          },
          "metadata": {
            "needs_background": "light"
          }
        }
      ]
    }
  ]
}
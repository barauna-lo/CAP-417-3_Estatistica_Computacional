{
  "nbformat": 4,
  "nbformat_minor": 0,
  "metadata": {
    "colab": {
      "name": "CAP417HandsOn3-READING '.csv'.ipynb",
      "provenance": [],
      "collapsed_sections": [],
      "include_colab_link": true
    },
    "kernelspec": {
      "name": "python3",
      "display_name": "Python 3"
    },
    "language_info": {
      "name": "python"
    }
  },
  "cells": [
    {
      "cell_type": "markdown",
      "metadata": {
        "id": "view-in-github",
        "colab_type": "text"
      },
      "source": [
        "<a href=\"https://colab.research.google.com/github/barauna-lo/Computational_Statistics/blob/main/HandsOn_11/CAP417HandsOn3_READING_'_csv'.ipynb\" target=\"_parent\"><img src=\"https://colab.research.google.com/assets/colab-badge.svg\" alt=\"Open In Colab\"/></a>"
      ]
    },
    {
      "cell_type": "markdown",
      "metadata": {
        "id": "49ePU6FwtVRp"
      },
      "source": [
        "# CAP 417 - PARTE C - HANDS-ON 03"
      ]
    },
    {
      "cell_type": "markdown",
      "source": [
        "Alternativa: Incorporar aqui o módulo de geração de ST 1/f do Hands-On2"
      ],
      "metadata": {
        "id": "mYqALtMWjFsy"
      }
    },
    {
      "cell_type": "markdown",
      "metadata": {
        "id": "2MLNaKUmpwOw"
      },
      "source": [
        "Caracterização Espectral de Processos Estocásticos (PSD + DFA  e  MFSS)"
      ]
    },
    {
      "cell_type": "markdown",
      "metadata": {
        "id": "fiNEs-xdti19"
      },
      "source": [
        "ESCREVA O SEU NOME AQUI:\n",
        "\n",
        "E,\n",
        "ANTES DE ENVIAR AO PROFESSOR, SALVE ESTE COLAB ATUALIZANDO-O COM O SEU PRIMEIRO NOME. OU SEJA:  CAP417HandsOn3SeuNome.ipynb\n",
        "\n",
        "prazo de Entrega: 06/6/2022\n",
        "\n",
        "================================================================================\n"
      ]
    },
    {
      "cell_type": "markdown",
      "metadata": {
        "id": "1_ZZDcgQ2dMX"
      },
      "source": [
        "# Step 1 (CARACTERIZACAO VIA ESPECTRO DE POTÊNCIAS - PSD E DFA): \n",
        "\n",
        "Dataframe 1.a. - Série de vento solar com 4096 pontos enviada pelo professor como dataset teste (Sw4096.csv).\n",
        "\n",
        "Dataframe 1.b. - baixar serie temporal recomendada pelo professor via e-mail.\n",
        "\n",
        "Aplicar na série 1.b. - o algoritmo **specplus.py** (calcula espectros PSD e DFA). **Antes porém**, para se familiarizar com ambos, rode os algoritmos sobre a série de teste 1.c, Sw4096.csv, enviada pelo email.  \n",
        "\n",
        "Note que, a versão do 1o algoritmo **specplus.py** se aplica apenas em dados no formato .txt. Dessa forma, está incluido um modulo em python para transformar o arquivo .txt em . csv. (módulo que pode ser útil em futuras aplicações). \n",
        "\n",
        "Aplique ambos os algorítmos sobre o Dataframe 1.b. Salve o output. Você pode modificar o código **specplus.py** para ler diretamente o formato .csv (isso vale um bonus de 0.1 na nota final da parte C). \n",
        "\n",
        "\n"
      ]
    },
    {
      "cell_type": "markdown",
      "metadata": {
        "id": "biiIPVO7wJgB"
      },
      "source": [
        "Bibliotecas e Comandos Necessários:"
      ]
    },
    {
      "cell_type": "code",
      "metadata": {
        "id": "Ft54GYMqwCKi"
      },
      "source": [
        "import pandas as pd\n",
        "import seaborn as sns\n",
        "import numpy as np\n",
        "from scipy.stats import norm\n",
        "import io\n",
        "import matplotlib.pyplot as plt\n",
        "import matplotlib.mlab as mlab\n",
        "%matplotlib inline"
      ],
      "execution_count": null,
      "outputs": []
    },
    {
      "cell_type": "markdown",
      "metadata": {
        "id": "kDg3lQrZuzhc"
      },
      "source": [
        "Importação das Séries Temporais para este notebook:"
      ]
    },
    {
      "cell_type": "code",
      "metadata": {
        "id": "fsfyk621X6rW",
        "colab": {
          "resources": {
            "http://localhost:8080/nbextensions/google.colab/files.js": {
              "data": "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",
              "ok": true,
              "headers": [
                [
                  "content-type",
                  "application/javascript"
                ]
              ],
              "status": 200,
              "status_text": ""
            }
          },
          "base_uri": "https://localhost:8080/",
          "height": 90
        },
        "outputId": "10398562-ff05-4eab-ef34-920ee2efe0fa"
      },
      "source": [
        "#Importar um arquivo do seu desktop para o Colab\n",
        "\n",
        "#File from your computer:\n",
        "from google.colab import files\n",
        "\n",
        "uploaded = files.upload()\n",
        "\n",
        "for fn in uploaded.keys():\n",
        "  print('User uploaded file \"{name}\" with length {length} bytes'.format(\n",
        "      name=fn, length=len(uploaded[fn])))\n",
        "\n",
        "#File from GoogleDrive:\n",
        "#from google.colab import drive\n",
        "#drive.mount('/content/drive')"
      ],
      "execution_count": null,
      "outputs": [
        {
          "output_type": "display_data",
          "data": {
            "text/html": [
              "\n",
              "     <input type=\"file\" id=\"files-3f9b8fb0-9b0e-403f-83d0-57b604764210\" name=\"files[]\" multiple disabled\n",
              "        style=\"border:none\" />\n",
              "     <output id=\"result-3f9b8fb0-9b0e-403f-83d0-57b604764210\">\n",
              "      Upload widget is only available when the cell has been executed in the\n",
              "      current browser session. Please rerun this cell to enable.\n",
              "      </output>\n",
              "      <script src=\"/nbextensions/google.colab/files.js\"></script> "
            ],
            "text/plain": [
              "<IPython.core.display.HTML object>"
            ]
          },
          "metadata": {
            "tags": []
          }
        },
        {
          "output_type": "stream",
          "text": [
            "Saving Swind4096.csv to Swind4096 (1).csv\n",
            "User uploaded file \"Swind4096.csv\" with length 16395 bytes\n"
          ],
          "name": "stdout"
        }
      ]
    },
    {
      "cell_type": "markdown",
      "metadata": {
        "id": "lJkOGS25_fWs"
      },
      "source": [
        "\n",
        "\n",
        "---\n",
        "\n"
      ]
    },
    {
      "cell_type": "markdown",
      "metadata": {
        "id": "l5axRcxR9-SH"
      },
      "source": [
        "Módulo de Transformação de um arquivo no formato CSV para TXT \n",
        "\n",
        "(necessário para a versão do **specplus.py** apresentada abaixo)."
      ]
    },
    {
      "cell_type": "code",
      "source": [
        ""
      ],
      "metadata": {
        "id": "PbZo5CDFny0g"
      },
      "execution_count": null,
      "outputs": []
    },
    {
      "cell_type": "code",
      "metadata": {
        "colab": {
          "base_uri": "https://localhost:8080/"
        },
        "id": "G0iNz8_nhd46",
        "outputId": "1cd27024-6283-4d7b-e317-b05c4b773475"
      },
      "source": [
        "#csv_para_txt\n",
        "\n",
        "import csv\n",
        "csv_file = input('Enter the name of your input file: ')\n",
        "txt_file = input('Enter the name of your output file: ')\n",
        "\n",
        "with open(txt_file, \"w\") as my_output_file:\n",
        "\n",
        "    with open(csv_file, \"r\") as my_input_file:\n",
        "\n",
        "        [ my_output_file.write(\" \".join(row)+'\\n') for row in csv.reader(my_input_file)]\n",
        "\n",
        "    my_output_file.close()"
      ],
      "execution_count": null,
      "outputs": [
        {
          "output_type": "stream",
          "text": [
            "Enter the name of your input file: Swind4096.csv\n",
            "Enter the name of your output file: Swind4096.txt\n"
          ],
          "name": "stdout"
        }
      ]
    },
    {
      "cell_type": "markdown",
      "source": [
        "## Lendo o seu DataFrame\n",
        "\n",
        "Nas celulas abaixo irei fazer uma alteação na célula que esta acima para que, apartir do seu dataframa você possa usar o `SpecPlus` \n",
        "\n",
        "1. Baixando o dataframe do \"HandsOn01\" do professor Reinaldo, lendo no pandas \n",
        "2. Mudando a variável para `df` (Atente ao formato! Deve ser uma série temporal de uma única coluna\n",
        "3. Salvando a série temporal em em um arquivo `df.cvs`\n",
        "4. Lendo e tranformando o arquivo `df.csc` em um arquivo de nome `Swind4096.txt`. Observe que esse será o arquivo que o `SpecPlus` irá ler. \n",
        "\n",
        "Para uma série temporal qualquer apenas renomeie a sua série como `df` e poderá usar a celula $3.$ e $4.$ para rodar o `SpecPlus` "
      ],
      "metadata": {
        "id": "rWEJAqcPtkV2"
      }
    },
    {
      "cell_type": "code",
      "source": [
        "#########\n",
        "#### 1. \n",
        "#########\n",
        "\n",
        "\n",
        "# Importantdo as Bibliotecas 📚\n",
        "from google.colab import files\n",
        "import pandas as pd            #\n",
        "\n",
        "!gdown --id 1HuCXmgk2tKq4Bo6Uvl3m2-Bwhn2cLvgg #importando o arquivo `endo.csv\n",
        "!gdown --id 1STW2t3V3MqJM9epEHje0eNZATSTjQrSL #importando o arquivo `exo.csv\n",
        "\n",
        "#Alocano os dataframes em uma variável\n",
        "dfendo = pd.read_csv('endo.csv')\n",
        "dfexo = pd.read_csv('exo.csv')\n",
        "\n",
        "#OBSERVAÇÃO: Vou renomear a variavel para `df` apenas. Veja como será o nome do\n",
        "#seu dataframe"
      ],
      "metadata": {
        "colab": {
          "base_uri": "https://localhost:8080/"
        },
        "id": "N0WdzbH1ul2C",
        "outputId": "dfe7634c-5f0c-43c4-e23a-9ca31e005a99"
      },
      "execution_count": 3,
      "outputs": [
        {
          "output_type": "stream",
          "name": "stdout",
          "text": [
            "/usr/local/lib/python3.7/dist-packages/gdown/cli.py:131: FutureWarning: Option `--id` was deprecated in version 4.3.1 and will be removed in 5.0. You don't need to pass it anymore to use a file ID.\n",
            "  category=FutureWarning,\n",
            "Downloading...\n",
            "From: https://drive.google.com/uc?id=1HuCXmgk2tKq4Bo6Uvl3m2-Bwhn2cLvgg\n",
            "To: /content/endo.csv\n",
            "100% 30.7k/30.7k [00:00<00:00, 39.4MB/s]\n",
            "/usr/local/lib/python3.7/dist-packages/gdown/cli.py:131: FutureWarning: Option `--id` was deprecated in version 4.3.1 and will be removed in 5.0. You don't need to pass it anymore to use a file ID.\n",
            "  category=FutureWarning,\n",
            "Downloading...\n",
            "From: https://drive.google.com/uc?id=1STW2t3V3MqJM9epEHje0eNZATSTjQrSL\n",
            "To: /content/exo.csv\n",
            "100% 31.8k/31.8k [00:00<00:00, 40.0MB/s]\n"
          ]
        }
      ]
    },
    {
      "cell_type": "code",
      "source": [
        "#########\n",
        "#### 2. \n",
        "#########\n",
        "\n",
        "\n",
        "# OBSERVAÇÃO!!!\n",
        "# O arquivo que vocês foram usar como varíavel `df` deve conter apenas \n",
        "# UMA coluna! \n",
        "\n",
        "df = dfendo #"
      ],
      "metadata": {
        "id": "qDKlq3KO5BIW"
      },
      "execution_count": null,
      "outputs": []
    },
    {
      "cell_type": "code",
      "source": [
        "#########\n",
        "#### 3. \n",
        "#########\n",
        "\n",
        "\n",
        "#Salvando o conjuntos de dados em um arquivo `.csv` sem os `index` \n",
        "#e sem o `header`\n",
        "\n",
        "#Esse formator é importante pois será dessa forma que a proxima célula irá \n",
        "#converter o arquivo de `.csv` para `.txt`\n",
        "df.to_csv(\"df.csv\", index=False, header=False)"
      ],
      "metadata": {
        "id": "UqNjvmiiw1Tj"
      },
      "execution_count": 5,
      "outputs": []
    },
    {
      "cell_type": "code",
      "source": [
        "#########\n",
        "#### 4. \n",
        "#########\n",
        "\n",
        "\n",
        "# O formato `Swind4096.txt` é o que a a função `specPlus` espera como entrada.\n",
        "# É possível fazer a alteração diramenten na função na linha 151 da célula \n",
        "# abaixo. Porem, para evitar alterar o código descidi deixar o formato inicial\n",
        "import csv\n",
        "with open(\"Swind4096.txt\", \"w\") as my_output_file: \n",
        "    with open(\"df.csv\", \"r\") as my_input_file: [ my_output_file.write(\" \".join(row)+'\\n') for row in csv.reader(my_input_file)]\n",
        "    my_output_file.close()\n"
      ],
      "metadata": {
        "id": "daVTANyXtiio"
      },
      "execution_count": 9,
      "outputs": []
    },
    {
      "cell_type": "markdown",
      "metadata": {
        "id": "8JTAEUw8_k1y"
      },
      "source": [
        "\n",
        "\n",
        "---\n",
        "\n"
      ]
    },
    {
      "cell_type": "markdown",
      "metadata": {
        "id": "PWJhIu_0_nCK"
      },
      "source": [
        "SPECPLUS.PY (processamento de apenas 01 módulo google colab para obter o output).\n",
        "\n",
        "Obtem os espectros PSD (power spctrum density) e DFA (dentreded fluctuation analysis) para uma série temporal \n",
        "\n",
        "com $2ˆ{n}$ pontos.\n"
      ]
    },
    {
      "cell_type": "code",
      "metadata": {
        "colab": {
          "base_uri": "https://localhost:8080/",
          "height": 924
        },
        "id": "g9Pc3qM7if5I",
        "outputId": "c0a9593c-4330-4565-d645-31e5b2325738"
      },
      "source": [
        "# ------------------------------------------------------------------------\n",
        "# SpecplusV01.py\n",
        "# ------------------------------------------------------------------------\n",
        "import matplotlib.pyplot as plt\n",
        "import matplotlib.mlab as mlab\n",
        "from scipy import stats, optimize\n",
        "import numpy as np\n",
        "import math\n",
        "\n",
        "__author__ = 'Paulo Giovani'\n",
        "__copyright__ = 'Copyright 2017, 3DBMO Project INPE'\n",
        "__credits__ = ['Paulo Giovani', 'Reinaldo Roberto Rosa', 'Murilo da Silva Dantas']\n",
        "__license__ = 'GPL'\n",
        "__version__ = '0.1B'\n",
        "__maintainer__ = 'Paulo Giovani'\n",
        "__email__ = 'pg_faria@yahoo.com.br'\n",
        "\n",
        "#---------------------------------------------------------------------\n",
        "# Calcula o PSD da série temporal\n",
        "#---------------------------------------------------------------------\n",
        "def psd(data):\n",
        "\t\"\"\"Calcula o PSD de uma série temporal.\"\"\"\n",
        "\t\n",
        "\t# Define um intervalo para realizar o ajuste da reta\n",
        "\tINICIO = 10\n",
        "\tFIM = 800\n",
        "\t\n",
        "\t# O vetor com o tempo é o tamanho do número de pontos\n",
        "\tN = len(data)\n",
        "\ttempo = np.arange(len(data))\n",
        "\n",
        "\t# Define a frequência de amostragem\n",
        "\tdt = (tempo[-1] - tempo[0] / (N - 1))\n",
        "\tfs = 1 / dt\n",
        "\n",
        "\t# Calcula o PSD utilizando o MLAB\n",
        "\tpower, freqs = mlab.psd(data, Fs = fs, NFFT = N, scale_by_freq = False)\n",
        "\n",
        "\t# Calcula a porcentagem de pontos utilizados na reta de ajuste\n",
        "\ttotalFrequencias = len(freqs)\n",
        "\ttotalPSD = FIM - INICIO\n",
        "\tporcentagemPSD = int(100 * totalPSD / totalFrequencias)\n",
        "\n",
        "\t# Seleciona os dados dentro do intervalo de seleção\n",
        "\txdata = freqs[INICIO:FIM]\n",
        "\tydata = power[INICIO:FIM]\n",
        "\n",
        "\t# Simula o erro\n",
        "\tyerr = 0.2 * ydata\n",
        "\n",
        "\t# Define uma função para calcular a Lei de Potência\n",
        "\tpowerlaw = lambda x, amp, index: amp * (x**index)\n",
        "\n",
        "\t# Converte os dados para o formato LOG\n",
        "\tlogx = np.log10(xdata)\n",
        "\tlogy = np.log10(ydata)\n",
        "\n",
        "\t# Define a função para realizar o ajuste\n",
        "\tfitfunc = lambda p, x: p[0] + p[1] * x\n",
        "\terrfunc = lambda p, x, y, err: (y - fitfunc(p, x)) / err    \n",
        "\tlogyerr = yerr / ydata\n",
        "\n",
        "\t# Calcula a reta de ajuste\n",
        "\tpinit = [1.0, -1.0]\n",
        "\tout = optimize.leastsq(errfunc, pinit, args = (logx, logy, logyerr), full_output = 1)    \n",
        "\tpfinal = out[0]\n",
        "\tcovar = out[1]\n",
        "\tindex = pfinal[1]\n",
        "\tamp = 10.0 ** pfinal[0]\n",
        "\tindexErr = np.sqrt(covar[0][0])\n",
        "\tampErr = np.sqrt(covar[1][1]) * amp\n",
        "\t\n",
        "\t# Retorna os valores obtidos\n",
        "\treturn freqs, power, xdata, ydata, amp, index, powerlaw, INICIO, FIM\n",
        "\t\n",
        "#---------------------------------------------------------------------\n",
        "# Calcula o DFA 1D da série temporal\n",
        "#---------------------------------------------------------------------\n",
        "def dfa1d(timeSeries, grau):\n",
        "\t\"\"\"Calcula o DFA 1D (adaptado de Physionet), onde a escala cresce\n",
        "\tde acordo com a variável 'Boxratio'. Retorna o array 'vetoutput', \n",
        "\tonde a primeira coluna é o log da escala S e a segunda coluna é o\n",
        "\tlog da função de flutuação.\"\"\"\n",
        "\n",
        "\t# 1. A série temporal {Xk} com k = 1, ..., N é integrada na chamada função perfil Y(k)\n",
        "\tx = np.mean(timeSeries)\n",
        "\ttimeSeries = timeSeries - x\n",
        "\tyk = np.cumsum(timeSeries)\n",
        "\ttam = len(timeSeries)\n",
        "\n",
        "\t# 2. A série (ou perfil) Y(k) é dividida em N intervalos não sobrepostos de tamanho S\n",
        "\tsf = np.ceil(tam / 4).astype(np.int)\n",
        "\tboxratio = np.power(2.0, 1.0 / 8.0)\n",
        "\tvetoutput = np.zeros(shape = (1,2))\n",
        "\n",
        "\ts = 4\n",
        "\twhile s <= sf:        \n",
        "\t\tserie = yk        \n",
        "\t\tif np.mod(tam, s) != 0:\n",
        "\t\t\tl = s * int(np.trunc(tam/s))\n",
        "\t\t\tserie = yk[0:l]\t\t\t\n",
        "\t\tt = np.arange(s, len(serie), s)\n",
        "\t\tv = np.array(np.array_split(serie, t))\n",
        "\t\tl = len(v)\n",
        "\t\tx = np.arange(1, s + 1)\n",
        "\t\t\n",
        "\t\t# 3. Calcula-se a variância para cada segmento v = 1,…, n_s:\n",
        "\t\tp = np.polynomial.polynomial.polyfit(x, v.T, grau)\n",
        "\t\tyfit = np.polynomial.polynomial.polyval(x, p)\n",
        "\t\tvetvar = np.var(v - yfit)\n",
        "\t\t\n",
        "\t\t# 4. Calcula-se a função de flutuação DFA como a média das variâncias de cada intervalo\n",
        "\t\tfs = np.sqrt(np.mean(vetvar))\n",
        "\t\tvetoutput = np.vstack((vetoutput,[s, fs]))\n",
        "\t\t\n",
        "\t\t# A escala S cresce numa série geométrica\n",
        "\t\ts = np.ceil(s * boxratio).astype(np.int)\n",
        "\n",
        "\t# Array com o log da escala S e o log da função de flutuação   \n",
        "\tvetoutput = np.log10(vetoutput[1::1,:])\n",
        "\n",
        "\t# Separa as colunas do vetor 'vetoutput'\n",
        "\tx = vetoutput[:,0]\n",
        "\ty = vetoutput[:,1]\n",
        "\n",
        "\t# Regressão linear\n",
        "\tslope, intercept, _, _, _ = stats.linregress(x, y)\n",
        "\n",
        "\t# Calcula a reta de inclinação\n",
        "\tpredict_y = intercept + slope * x\n",
        "\n",
        "\t# Calcula o erro\n",
        "\tpred_error = y - predict_y\n",
        "\n",
        "\t# Retorna o valor do ALFA, o vetor 'vetoutput', os vetores X e Y,\n",
        "\t# o vetor com os valores da reta de inclinação e o vetor de erros\n",
        "\treturn slope, vetoutput, x, y, predict_y, pred_error\n",
        "\n",
        "#---------------------------------------------------------------------\n",
        "# Trecho principal\n",
        "#---------------------------------------------------------------------\n",
        "def main():\n",
        "\t\"\"\"Função com o código princiapl do programa.\"\"\"\n",
        "\t\n",
        "\tprint(\"\\nData Analysis for 3DBMO simulations...\\n\")\n",
        "\t\n",
        "\t# Desabilita as mensagens de erro do Numpy (warnings)\n",
        "\told_settings = np.seterr(divide = 'ignore', invalid = 'ignore', over = 'ignore')\n",
        "\t\n",
        "\t# Carrega o arquivo de dados\n",
        "\tnomeArquivo = 'Swind4096.txt'\t\t\n",
        "\tdata = np.genfromtxt(nomeArquivo,\n",
        "                         delimiter = ',',\n",
        "                         dtype = 'float32',\n",
        "                         filling_values = 0)\n",
        "\t\n",
        "\t# Exibe os primeiro N valores do arquivo\n",
        "\tN = 10\n",
        "\tprint(\"Original time series data (%d points): \\n\" %(len(data)))\n",
        "\tprint(\"First %d points: %s\\n\" %(N, data[0:10]))\n",
        "\tprint()\n",
        "\t\n",
        "\t#-----------------------------------------------------------------\n",
        "    # Parâmetros gerais de plotagem\n",
        "    #-----------------------------------------------------------------\n",
        "\t\n",
        "\t# Define os subplots\n",
        "\tfig = plt.figure()\n",
        "\tfig.subplots_adjust(hspace = .3, wspace = .2)\n",
        "\t\n",
        "\t# Tamanho das fontes\n",
        "\ttamanhoFonteEixoX = 16\n",
        "\ttamanhoFonteEixoY = 16\n",
        "\ttamanhoFonteTitulo = 16\n",
        "\ttamanhoFontePrincipal = 25\n",
        "\t\n",
        "\t# Título principal\n",
        "\ttituloPrincipal = 'Spectral Time Series Analysis' \t\n",
        "\t\n",
        "\t#-----------------------------------------------------------------\n",
        "    # Plotagem da série original\n",
        "    #-----------------------------------------------------------------\n",
        "\t\n",
        "\t# Define as cores da plotagem\n",
        "\tcorSerieOriginal = 'r'\n",
        "\t\n",
        "\t# Título dos eixos da série original\n",
        "\ttextoEixoX = 'Tempo'\n",
        "\ttextoEixoY = 'Amplitude'\n",
        "\ttextoTituloOriginal = 'Original Time Series Data'\n",
        "\t\n",
        "\tprint(\"1. Plotting time series data...\")\n",
        "\t\n",
        "\t# Plotagem da série de dados    \n",
        "\t#O = fig.add_subplot(1, 3, 1)    \n",
        "\tO = fig.add_subplot(2, 1, 1)\n",
        "\tO.plot(data, '-', color = corSerieOriginal)\n",
        "\tO.set_title(textoTituloOriginal, fontsize = tamanhoFonteTitulo)\n",
        "\tO.set_xlabel(textoEixoX, fontsize = tamanhoFonteEixoX)\n",
        "\tO.set_ylabel(textoEixoY, fontsize = tamanhoFonteEixoY)\n",
        "\tO.ticklabel_format(style = 'sci', axis = 'x', scilimits = (0,0))\n",
        "\tO.grid()\n",
        "\t\n",
        "\t#-----------------------------------------------------------------\n",
        "    # Cálculo e plotagem do PSD\n",
        "    #-----------------------------------------------------------------\n",
        "\t\n",
        "\t# Calcula o PSD\n",
        "\tfreqs, power, xdata, ydata, amp, index, powerlaw, INICIO, FIM = psd(data)\n",
        "\n",
        "\t# O valor do beta equivale ao index\n",
        "\tb = index\n",
        "\n",
        "\t# Define as cores da plotagem\n",
        "\tcorPSD1 = 'k'\n",
        "\tcorPSD2 = 'navy'\n",
        "\n",
        "\t# Título dos eixos do PSD\n",
        "\ttextoPSDX = 'Frequência (Hz)'\n",
        "\ttextoPSDY = 'Potência'\n",
        "\ttextoTituloPSD = r'Power Spectrum Density $\\beta$ = '\n",
        "\t\n",
        "\tprint(\"2. Plotting Power Spectrum Density...\")\n",
        "\n",
        "\t# Plotagem do PSD    \n",
        "\tPSD = fig.add_subplot(2, 2, 3)    \n",
        "\tPSD.plot(freqs, power, '-', color = corPSD1, alpha = 0.7)\n",
        "\tPSD.plot(xdata, ydata, color = corPSD2, alpha = 0.8)\n",
        "\tPSD.axvline(freqs[INICIO], color = corPSD2, linestyle = '--')\n",
        "\tPSD.axvline(freqs[FIM], color = corPSD2, linestyle = '--')    \n",
        "\tPSD.plot(xdata, powerlaw(xdata, amp, index), 'r-', linewidth = 1.5, label = '$%.4f$' %(b))    \n",
        "\tPSD.set_xlabel(textoPSDX, fontsize = tamanhoFonteEixoX)\n",
        "\tPSD.set_ylabel(textoPSDY, fontsize = tamanhoFonteEixoY)\n",
        "\tPSD.set_title(textoTituloPSD + '%.4f' %(b), loc = 'center', fontsize = tamanhoFonteTitulo)\n",
        "\tPSD.set_yscale('log')\n",
        "\tPSD.set_xscale('log')\n",
        "\tPSD.grid() \n",
        "\t\n",
        "\t#-----------------------------------------------------------------\n",
        "\t# Cálculo e plotagem do DFA\n",
        "    #-----------------------------------------------------------------\n",
        "\t        \n",
        "\t# Calcula o DFA 1D\n",
        "\talfa, vetoutput, x, y, reta, erro = dfa1d(data, 1)\n",
        "\n",
        "\t# Verifica se o DFA possui um valor válido\n",
        "\t# Em caso afirmativo, faz a plotagem\n",
        "\tif not math.isnan(alfa):\n",
        "\t\t\n",
        "\t\t# Define as cores da plotagem\n",
        "\t\tcorDFA = 'darkmagenta'\n",
        "\n",
        "\t\t# Título dos eixos do DFA\n",
        "\t\ttextoDFAX = '$log_{10}$ (s)'\n",
        "\t\ttextoDFAY = '$log_{10}$ F(s)'\n",
        "\t\ttextoTituloDFA = r'Detrended Fluctuation Analysis $\\alpha$ = '\n",
        "\t\t\n",
        "\t\tprint(\"3. Plotting Detrended Fluctuation Analysis...\")\n",
        "\t\t\n",
        "\t\t# Plotagem do DFA \n",
        "\t\tDFA = fig.add_subplot(2, 2, 4)    \n",
        "\t\tDFA.plot(x, y, 's', \n",
        "\t\t\t\t color = corDFA, \n",
        "\t\t\t\t markersize = 4,\n",
        "\t\t\t\t markeredgecolor = 'r',\n",
        "\t\t\t\t markerfacecolor = 'None',\n",
        "\t\t\t\t alpha = 0.8)\t\t\t\t \n",
        "\t\tDFA.plot(x, reta, '-', color = corDFA, linewidth = 1.5)\n",
        "\t\tDFA.set_title(textoTituloDFA + '%.4f' %(alfa), loc = 'center', fontsize = tamanhoFonteTitulo)\n",
        "\t\tDFA.set_xlabel(textoDFAX, fontsize = tamanhoFonteEixoX)\n",
        "\t\tDFA.set_ylabel(textoDFAY, fontsize = tamanhoFonteEixoY)\n",
        "\t\tDFA.grid()\n",
        "\n",
        "\telse:  \n",
        "\t\tDFA = fig.add_subplot(2, 2, 4)\n",
        "\t\tDFA.set_title(textoTituloDFA + 'N.A.', loc = 'center', fontsize = tamanhoFonteTitulo)\n",
        "\t\tDFA.grid()\n",
        "\n",
        "\t#-----------------------------------------------------------------\n",
        "\t# Exibe e salva a figura\n",
        "\t#-----------------------------------------------------------------\n",
        "\tplt.suptitle(tituloPrincipal, fontsize = tamanhoFontePrincipal)\n",
        "\tnomeImagem = '3DBMO_PSD_DFA_2.png'\n",
        "\tfig.set_size_inches(15, 9)\n",
        "\tplt.savefig(nomeImagem, dpi = 300, bbox_inches = 'tight', pad_inches = 0.1)\t\n",
        "\tplt.show()\n",
        "    \n",
        "#---------------------------------------------------------------------\n",
        "# Trecho principal\n",
        "#---------------------------------------------------------------------\n",
        "if __name__ == \"__main__\":\n",
        "\tmain()"
      ],
      "execution_count": 10,
      "outputs": [
        {
          "output_type": "stream",
          "name": "stdout",
          "text": [
            "\n",
            "Data Analysis for 3DBMO simulations...\n",
            "\n",
            "Original time series data (4095 points): \n",
            "\n",
            "First 10 points: [0.53477 0.53329 0.88739 1.5979  1.4672  1.1052  0.83502 0.58549 0.7953\n",
            " 0.62701]\n",
            "\n",
            "\n",
            "1. Plotting time series data...\n",
            "2. Plotting Power Spectrum Density...\n",
            "3. Plotting Detrended Fluctuation Analysis...\n"
          ]
        },
        {
          "output_type": "stream",
          "name": "stderr",
          "text": [
            "/usr/local/lib/python3.7/dist-packages/ipykernel_launcher.py:92: DeprecationWarning: `np.int` is a deprecated alias for the builtin `int`. To silence this warning, use `int` by itself. Doing this will not modify any behavior and is safe. When replacing `np.int`, you may wish to use e.g. `np.int64` or `np.int32` to specify the precision. If you wish to review your current use, check the release note link for additional information.\n",
            "Deprecated in NumPy 1.20; for more details and guidance: https://numpy.org/devdocs/release/1.20.0-notes.html#deprecations\n",
            "/usr/local/lib/python3.7/dist-packages/ipykernel_launcher.py:117: DeprecationWarning: `np.int` is a deprecated alias for the builtin `int`. To silence this warning, use `int` by itself. Doing this will not modify any behavior and is safe. When replacing `np.int`, you may wish to use e.g. `np.int64` or `np.int32` to specify the precision. If you wish to review your current use, check the release note link for additional information.\n",
            "Deprecated in NumPy 1.20; for more details and guidance: https://numpy.org/devdocs/release/1.20.0-notes.html#deprecations\n"
          ]
        },
        {
          "output_type": "display_data",
          "data": {
            "text/plain": [
              "<Figure size 1080x648 with 3 Axes>"
            ],
            "image/png": "[encoded data removed]"
          },
          "metadata": {
            "needs_background": "light"
          }
        }
      ]
    },
    {
      "cell_type": "markdown",
      "source": [
        "Task 01: Calcular Gamma1"
      ],
      "metadata": {
        "id": "O_oQK3n6hzus"
      }
    },
    {
      "cell_type": "markdown",
      "metadata": {
        "id": "r6oZF8mNF_Hs"
      },
      "source": [
        "# STEP 02:\n",
        "CARACTERIZAÇÃO VIA ESPECTRO MULTIFRACTAL\n",
        "\n",
        "Algoritmo MFDFA.py (com 5 módulos separados) para obtenção do espectro multifractal de singularidade (deve ser aplicado sobre o formato .csv).\n",
        "\n",
        "Para fins de familiarização, rode o algoritmo primeiramente sobre o dataframe 1 e obtenha o valor de Delta_Alpha=dalpha) ~  0.87.\n",
        "\n",
        "Aplique sobre o dataframe 1.b e obtenha o valor de dalpha. Compare com o dalpha aplicado sobre o dataframe 1.a e verifique qual tem maior multifractalidade (maior dalpha).\n"
      ]
    },
    {
      "cell_type": "code",
      "metadata": {
        "id": "vDAKpwP4Xqli"
      },
      "source": [
        "df = pd.read_csv(io.BytesIO(uploaded['Swind4096.csv']))"
      ],
      "execution_count": null,
      "outputs": []
    },
    {
      "cell_type": "code",
      "metadata": {
        "id": "iZ_tycfF9B0U",
        "colab": {
          "base_uri": "https://localhost:8080/"
        },
        "outputId": "ac9b1a0e-c4a7-4310-8ae2-00d005dedd6d"
      },
      "source": [
        "df.info()"
      ],
      "execution_count": null,
      "outputs": [
        {
          "output_type": "stream",
          "text": [
            "<class 'pandas.core.frame.DataFrame'>\n",
            "RangeIndex: 4096 entries, 0 to 4095\n",
            "Data columns (total 1 columns):\n",
            " #   Column  Non-Null Count  Dtype\n",
            "---  ------  --------------  -----\n",
            " 0   SPEED   4096 non-null   int64\n",
            "dtypes: int64(1)\n",
            "memory usage: 32.1 KB\n"
          ],
          "name": "stdout"
        }
      ]
    },
    {
      "cell_type": "code",
      "metadata": {
        "id": "UsVxdK-CYP4T"
      },
      "source": [
        "dx = df['SPEED']\n"
      ],
      "execution_count": null,
      "outputs": []
    },
    {
      "cell_type": "markdown",
      "metadata": {
        "id": "P6KcyY-Ol1Hl"
      },
      "source": [
        "# Multifractal Singularity Spectra (MFSS) \n",
        "\n",
        "via MFDFA.py (Módulos A, B, C, D e E)\n",
        "\n"
      ]
    },
    {
      "cell_type": "markdown",
      "metadata": {
        "id": "SgW4wXlgmY3v"
      },
      "source": [
        "MFSS-MÓDULO A "
      ]
    },
    {
      "cell_type": "code",
      "metadata": {
        "id": "bvrsTBhsl_ca"
      },
      "source": [
        "#MFDFA-Analytics-by-SKDataScience\n",
        "#multifractal DFA singularity spectra - module A\n",
        "#Version 3.0 - Modified by R.R.Rosa - Dec 2018 - mfdfa_ss_m1.py\n",
        "# This code implements a modification of the first-order unifractal analysis algorithm originally described in [1].\n",
        "# It covers both the detrended fluctuation analysis (DFA) and the Hurst (a.k.a. R/S) analysis methods. For more details\n",
        "# on the DFA and Hurst analysis methods, please refer to [2, 3].\n",
        "#\n",
        "# At the input, 'dx' is a time series of increments of the physical observable 'x(t)', of the length equal to an\n",
        "# integer power of two greater than two (i.e. 4, 8, 16, 32, etc.), 'normType_p' is any real greater than or\n",
        "# equal to one specifying the p-norm, 'isDFA' is a boolean value prescribing to use either the DFA-based algorithm or\n",
        "# the standard Hurst (a.k.a. R/S) analysis, 'normType_q' is any real greater than or equal to one specifying the q-norm.\n",
        "#\n",
        "# At the output, 'timeMeasure' is the time measure of the data's support at different scales, 'meanDataMeasure' is\n",
        "# the data measure at different scales, while 'scales' is the scales at which the data measure is computed.\n",
        "#\n",
        "# The conventional way of using the output values is to plot the data measure vs the scales; the time measure,\n",
        "# being the inverse quantity to the scales, is computed for an alternative representation and may be ignored.\n",
        "#\n",
        "# The requirement to have a power-of-two data length is aimed at avoiding inaccuracies when computing the data measure\n",
        "# on different time scales.\n",
        "#\n",
        "# REFERENCES:\n",
        "# [1] D.M. Filatov, J. Stat. Phys., 165 (2016) 681-692. DOI: 10.1007/s10955-016-1641-6.\n",
        "# [2] J.W. Kantelhardt, Fractal and Multifractal Time Series, available at http://arxiv.org/abs/0804.0747, 2008.\n",
        "# [3] J. Feder, Fractals, Plenum Press, New York, 1988.\n",
        "#\n",
        "# The end user is granted perpetual permission to reproduce, adapt, and/or distribute this code, provided that\n",
        "# an appropriate link is given to the original repository it was downloaded from.\n",
        "\n",
        "#input: read your time series as a 1d vector, with size 2ˆn, named:  dx\n",
        "\n",
        "import numpy as np\n",
        "\n",
        "def getHurstByUpscaling(dx, normType_p = np.inf, isDFA = 1, normType_q = 1.0):\n",
        "    ## Some initialiation\n",
        "    dx_len = len(dx)\n",
        "\n",
        "    # We have to reserve the most major scale for shifts, so we divide the data\n",
        "    # length by two. (As a result, the time measure starts from 2.0, not from\n",
        "    # 1.0, see below.)\n",
        "    dx_len = np.int(dx_len / 2)\n",
        "\n",
        "    dx_shift = np.int(dx_len / 2)\n",
        "\n",
        "    nScales = np.int(np.round(np.log2(dx_len)))    # Number of scales involved. P.S. We use 'round()' to prevent possible malcomputing of the logarithms\n",
        "    j = 2 ** (np.arange(1, nScales + 1) - 1) - 1\n",
        "\n",
        "    meanDataMeasure = np.zeros(nScales)\n",
        "\n",
        "    ## Computing the data measure\n",
        "    for ji in range(1, nScales + 1):\n",
        "        # At the scale 'j(ji)' we deal with '2 * (j(ji) + 1)' elements of the data 'dx'\n",
        "        dx_k_len = 2 * (j[ji - 1] + 1)\n",
        "        n = np.int(dx_len / dx_k_len)\n",
        "\n",
        "        dx_leftShift = np.int(dx_k_len / 2)\n",
        "        dx_rightShift = np.int(dx_k_len / 2)\n",
        "\n",
        "        for k in range(1, n + 1):\n",
        "            # We get a portion of the data of the length '2 * (j(ji) + 1)' plus the data from the left and right boundaries\n",
        "            dx_k_withShifts = dx[(k - 1) * dx_k_len + 1 + dx_shift - dx_leftShift - 1 : k * dx_k_len + dx_shift + dx_rightShift]\n",
        "\n",
        "            # Then we perform free upscaling and, using the above-selected data (provided at the scale j = 0),\n",
        "            # compute the velocities at the scale 'j(ji)'\n",
        "            j_dx = np.convolve(dx_k_withShifts, np.ones(dx_rightShift), 'valid')\n",
        "\n",
        "            # Then we compute the accelerations at the scale 'j(ji) + 1'\n",
        "            r = (j_dx[1 + dx_rightShift - 1 : ] - j_dx[1 - 1 : -dx_rightShift]) / 2.0\n",
        "\n",
        "            # Finally, we compute the range ...\n",
        "            if (normType_p == 0):\n",
        "                R = np.max(r[2 - 1 : ]) - np.min(r[2 - 1 : ])\n",
        "            elif (np.isinf(normType_p)):\n",
        "                R = np.max(np.abs(r[2 - 1 : ]))\n",
        "            else:\n",
        "                R = (np.sum(r[2 - 1 : ] ** normType_p) / len(r[2 - 1 : ])) ** (1.0 / normType_p)\n",
        "            # ... and the normalisation factor (\"standard deviation\")\n",
        "            S = np.sqrt(np.sum(np.abs(np.diff(r)) ** 2.0) / (len(r) - 1))\n",
        "            if (isDFA == 1):\n",
        "                S = 1.0\n",
        "\n",
        "            meanDataMeasure[ji - 1] += (R / S) ** normType_q\n",
        "        meanDataMeasure[ji - 1] = (meanDataMeasure[ji - 1] / n) ** (1.0 / normType_q)\n",
        "\n",
        "    # We pass from the scales ('j') to the time measure; the time measure at the scale j(nScales) (the most major one)\n",
        "    # is assumed to be 2.0, while it is growing when the scale is tending to j(1) (the most minor one).\n",
        "    # (The scale j(nScales)'s time measure is NOT equal to 1.0, because we reserved the highest scale for shifts\n",
        "    # in the very beginning of the function.)\n",
        "    timeMeasure = 2.0 * dx_len / (2 * (j + 1))\n",
        "\n",
        "    scales = j + 1\n",
        "\n",
        "    return [timeMeasure, meanDataMeasure, scales]"
      ],
      "execution_count": null,
      "outputs": []
    },
    {
      "cell_type": "markdown",
      "metadata": {
        "id": "bH6EoI4nmsqV"
      },
      "source": [
        "MFSS-MÓDULO B"
      ]
    },
    {
      "cell_type": "code",
      "metadata": {
        "id": "yVahF3iAl0F8"
      },
      "source": [
        "#MFDFA-Analytics-by-SKDataScience\n",
        "#multifractal DFA singularity spectra - module B\n",
        "#Version 3.0 - Modified by R.R.Rosa - Dec 2018 - mfdfa_ss_m2.py\n",
        "# This code implements a modification of the first-order multifractal analysis algorithm. It is based on the\n",
        "# corresponding unifractal analysis technique described in [1]. It computes the Lipschitz-Holder multifractal\n",
        "# singularity spectrum, as well as the minimum and maximum generalised Hurst exponents [2, 3].\n",
        "#\n",
        "# At the input, 'dx' is a time series of increments of the physical observable 'x(t)', of the length equal to an\n",
        "# integer power of two greater than two (i.e. 4, 8, 16, 32, etc.), 'normType' is any real greater than or\n",
        "# equal to one specifying the p-norm, 'isDFA' is a boolean value prescribing to use either the DFA-based algorithm or\n",
        "# the standard Hurst (a.k.a. R/S) analysis, 'isNormalised' is a boolean value prescribing either to normalise the\n",
        "# intermediate range-to-deviation (R/S) expression or to proceed computing without normalisation.\n",
        "#\n",
        "# At the output, 'timeMeasure' is the time measure of the data's support at different scales, 'dataMeasure' is\n",
        "# the data measure at different scales computed for each value of the variable q-norm, 'scales' is the scales at which\n",
        "# the data measure is computed, 'stats' is the structure containing MF-DFA statistics, while 'q' is the values of the\n",
        "# q-norm used.\n",
        "#\n",
        "# Similarly to unifractal analysis (see getHurstByUpscaling()), the time measure is computed merely for an alternative\n",
        "# representation of the dependence 'dataMeasure(q, scales) ~ scales ^ -tau(q)'.\n",
        "#\n",
        "# REFERENCES:\n",
        "# [1] D.M. Filatov, J. Stat. Phys., 165 (2016) 681-692. DOI: 10.1007/s10955-016-1641-6.\n",
        "# [2] J.W. Kantelhardt, Fractal and Multifractal Time Series, available at http://arxiv.org/abs/0804.0747, 2008.\n",
        "# [3] J. Feder, Fractals, Plenum Press, New York, 1988.\n",
        "#\n",
        "# The end user is granted perpetual permission to reproduce, adapt, and/or distribute this code, provided that\n",
        "# an appropriate link is given to the original repository it was downloaded from.\n",
        "\n",
        "import numpy as np\n",
        "\n",
        "def getMSSByUpscaling(dx, normType = np.inf, isDFA = 1, isNormalised = 1):\n",
        "    ## Some initialiation\n",
        "    aux_eps = np.finfo(float).eps\n",
        "\n",
        "    # We prepare an array of values of the variable q-norm\n",
        "    aux = [-16.0, -8.0, -4.0, -2.0, -1.0, -0.5, -0.0001, 0.0, 0.0001, 0.5, 0.9999, 1.0, 1.0001, 2.0, 4.0, 8.0, 16.0, 32.0]\n",
        "    nq = len(aux)\n",
        "\n",
        "    q = np.zeros((nq, 1))\n",
        "    q[:, 1 - 1] = aux\n",
        "\n",
        "    dx_len = len(dx)\n",
        "\n",
        "    # We have to reserve the most major scale for shifts, so we divide the data\n",
        "    # length by two. (As a result, the time measure starts from 2.0, not from\n",
        "    # 1.0, see below.)\n",
        "    dx_len = np.int(dx_len / 2)\n",
        "\n",
        "    dx_shift = np.int(dx_len / 2)\n",
        "\n",
        "    nScales = np.int(np.round(np.log2(dx_len)))    # Number of scales involved. P.S. We use 'round()' to prevent possible malcomputing of the logarithms\n",
        "    j = 2 ** (np.arange(1, nScales + 1) - 1) - 1\n",
        "\n",
        "    dataMeasure = np.zeros((nq, nScales))\n",
        "\n",
        "    ## Computing the data measures in different q-norms\n",
        "    for ji in range(1, nScales + 1):\n",
        "        # At the scale 'j(ji)' we deal with '2 * (j(ji) + 1)' elements of the data 'dx'\n",
        "        dx_k_len = 2 * (j[ji - 1] + 1)\n",
        "        n = np.int(dx_len / dx_k_len)\n",
        "\n",
        "        dx_leftShift = np.int(dx_k_len / 2)\n",
        "        dx_rightShift = np.int(dx_k_len / 2)\n",
        "\n",
        "        R = np.zeros(n)\n",
        "        S = np.ones(n)\n",
        "        for k in range(1, n + 1):\n",
        "            # We get a portion of the data of the length '2 * (j(ji) + 1)' plus the data from the left and right boundaries\n",
        "            dx_k_withShifts = dx[(k - 1) * dx_k_len + 1 + dx_shift - dx_leftShift - 1 : k * dx_k_len + dx_shift + dx_rightShift]\n",
        "\n",
        "            # Then we perform free upscaling and, using the above-selected data (provided at the scale j = 0),\n",
        "            # compute the velocities at the scale 'j(ji)'\n",
        "            j_dx = np.convolve(dx_k_withShifts, np.ones(dx_rightShift), 'valid')\n",
        "\n",
        "            # Then we compute the accelerations at the scale 'j(ji) + 1'\n",
        "            r = (j_dx[1 + dx_rightShift - 1 : ] - j_dx[1 - 1 : -dx_rightShift]) / 2.0\n",
        "\n",
        "            # Finally we compute the range ...\n",
        "            if (normType == 0):\n",
        "                R[k - 1] = np.max(r[2 - 1 : ]) - np.min(r[2 - 1 : ])\n",
        "            elif (np.isinf(normType)):\n",
        "                R[k - 1] = np.max(np.abs(r[2 - 1 : ]))\n",
        "            else:\n",
        "                R[k - 1] = (np.sum(r[2 - 1 : ] ** normType) / len(r[2 - 1 : ])) ** (1.0 / normType)\n",
        "            # ... and the normalisation factor (\"standard deviation\")\n",
        "            if (isDFA == 0):\n",
        "                S[k - 1] = np.sqrt(np.sum(np.abs(np.diff(r)) ** 2.0) / (len(r) - 1))\n",
        "\n",
        "        if (isNormalised == 1):      # Then we either normalise the R / S values, treating them as probabilities ...\n",
        "            p = np.divide(R, S) / np.sum(np.divide(R, S))\n",
        "        else:                        # ... or leave them unnormalised ...\n",
        "            p = np.divide(R, S)\n",
        "        # ... and compute the measures in the q-norms\n",
        "        for k in range(1, n + 1):\n",
        "            # This 'if' is needed to prevent measure blow-ups with negative values of 'q' when the probability is close to zero\n",
        "            if (p[k - 1] < 1000.0 * aux_eps):\n",
        "                continue\n",
        "\n",
        "            dataMeasure[:, ji - 1] = dataMeasure[:, ji - 1] + np.power(p[k - 1], q[:, 1 - 1])\n",
        "\n",
        "    # We pass from the scales ('j') to the time measure; the time measure at the scale j(nScales) (the most major one)\n",
        "    # is assumed to be 2.0, while it is growing when the scale is tending to j(1) (the most minor one).\n",
        "    # (The scale j(nScales)'s time measure is NOT equal to 1.0, because we reserved the highest scale for shifts\n",
        "    # in the very beginning of the function.)\n",
        "    timeMeasure = 2.0 * dx_len / (2 * (j + 1))\n",
        "\n",
        "    scales = j + 1\n",
        "\n",
        "    ## Determining the exponents 'tau' from 'dataMeasure(q, timeMeasure) ~ timeMeasure ^ tau(q)'\n",
        "    tau = np.zeros((nq, 1))\n",
        "    log10tm = np.log10(timeMeasure)\n",
        "    log10dm = np.log10(dataMeasure)\n",
        "    log10tm_mean = np.mean(log10tm)\n",
        "\n",
        "    # For each value of the q-norm we compute the mean 'tau' over all the scales\n",
        "    for qi in range(1, nq + 1):\n",
        "        tau[qi - 1, 1 - 1] = np.sum(np.multiply(log10tm, (log10dm[qi - 1, :] - np.mean(log10dm[qi - 1, :])))) / np.sum(np.multiply(log10tm, (log10tm - log10tm_mean)))\n",
        "\n",
        "    ## Finally, we only have to pass from 'tau(q)' to its conjugate function 'f(alpha)'\n",
        "    # In doing so, first we find the Lipschitz-Holder exponents 'alpha' (represented by the variable 'LH') ...\n",
        "    aux_top = (tau[2 - 1] - tau[1 - 1]) / (q[2 - 1] - q[1 - 1])\n",
        "    aux_middle = np.divide(tau[3 - 1 : , 1 - 1] - tau[1 - 1 : -1 - 1, 1 - 1], q[3 - 1 : , 1 - 1] - q[1 - 1 : -1 - 1, 1 - 1])\n",
        "    aux_bottom = (tau[-1] - tau[-1 - 1]) / (q[-1] - q[-1 - 1])\n",
        "    LH = np.zeros((nq, 1))\n",
        "    LH[:, 1 - 1] = -np.concatenate((aux_top, aux_middle, aux_bottom))\n",
        "    # ... and then compute the conjugate function 'f(alpha)' itself\n",
        "    f = np.multiply(LH, q) + tau\n",
        "\n",
        "    ## The last preparations\n",
        "    # We determine the minimum and maximum values of 'alpha' ...\n",
        "    LH_min = LH[-1, 1 - 1]\n",
        "    LH_max = LH[1 - 1, 1 - 1]\n",
        "    # ... and find the minimum and maximum values of another multifractal characteristic, the so-called\n",
        "    # generalised Hurst (or DFA) exponent 'h'. (These parameters are computed according to [2, p. 27].)\n",
        "    h_min = -(1.0 + tau[-1, 1 - 1]) / q[-1, 1 - 1]\n",
        "    h_max = -(1.0 + tau[1 - 1, 1 - 1]) / q[1 - 1, 1 - 1]\n",
        "\n",
        "    stats = {'tau':       tau,\n",
        "             'LH':        LH,\n",
        "             'f':         f,\n",
        "             'LH_min':    LH_min,\n",
        "             'LH_max':    LH_max,\n",
        "             'h_min':     h_min,\n",
        "             'h_max':     h_max}\n",
        "\n",
        "    return [timeMeasure, dataMeasure, scales, stats, q]"
      ],
      "execution_count": null,
      "outputs": []
    },
    {
      "cell_type": "markdown",
      "metadata": {
        "id": "eO5u6BDDmzgt"
      },
      "source": [
        "MFSS-MÓDULO C "
      ]
    },
    {
      "cell_type": "code",
      "metadata": {
        "id": "Qd2J90Wam509"
      },
      "source": [
        "#MFDFA-Analytics-by-SKDataScience\n",
        "#multifractal DFA singularity spectra - module D\n",
        "#Version 3.0 - Modified by R.R.Rosa - Dec 2018 - mfdfa_ss_m3.py\n",
        "# This function determines the optimal linear approximations of the data measure using two segments and returns\n",
        "# the index of the corresponding boundary scale (a.k.a. crossover), the boundary scale itself, as well as the\n",
        "# unifractal characteristics at the major and minor scales. For examples of using crossovers, see [1, 2].\n",
        "#\n",
        "# At the input, 'timeMeasure' is a time measure at different scales, while 'dataMeasure' is a data measure at the same\n",
        "# scales.\n",
        "#\n",
        "# At the output, 'bScale' is the boundary scale, or crossover, separating the major and minor scales, 'bDM' is the\n",
        "# data measure at the boundary scale, 'bsIndex' is the crossover's index with respect to the time measure, 'HMajor' is\n",
        "# the unifractal dimension at the major scales, 'HMinor' is the unifractal dimension at the minor scales.\n",
        "#\n",
        "# REFERENCES:\n",
        "# [1] D.M. Filatov, J. Stat. Phys., 165 (2016) 681-692. DOI: 10.1007/s10955-016-1641-6.\n",
        "# [2] C.-K. Peng, S. Havlin, H.E. Stanley and A.L. Goldberger, Chaos, 5 (1995) 82–87. DOI: 10.1063/1.166141.\n",
        "#\n",
        "# The end user is granted perpetual permission to reproduce, adapt, and/or distribute this code, provided that\n",
        "# an appropriate link is given to the original repository it was downloaded from.\n",
        "\n",
        "import numpy as np\n",
        "\n",
        "def getScalingExponents(timeMeasure, dataMeasure):\n",
        "    ## Initialisation\n",
        "    nScales = len(timeMeasure)\n",
        "\n",
        "    log10tm = np.log10(timeMeasure)\n",
        "    log10dm = np.log10(dataMeasure)\n",
        "\n",
        "    res = 1.0e+07\n",
        "    bsIndex = nScales\n",
        "\n",
        "    ## Computing\n",
        "    # We find linear approximations for major and minor subsets of the data measure and determine the index of the\n",
        "    # boundary scale at which the approximations are optimal in the sense of best fitting to the data measure\n",
        "    for i in range(3, nScales - 2 + 1):\n",
        "        # Major 'i' scales are approximated by the function 'k * x + b' ...\n",
        "        curr_log10tm = log10tm[nScales - i + 1 - 1 : nScales]\n",
        "        curr_log10dm = log10dm[nScales - i + 1 - 1 : nScales]\n",
        "        detA = i * np.sum(curr_log10tm ** 2.0) - np.sum(curr_log10tm) ** 2.0\n",
        "        detK = i * np.sum(np.multiply(curr_log10tm, curr_log10dm)) - np.sum(curr_log10tm) * np.sum(curr_log10dm)\n",
        "        detB = np.sum(curr_log10dm) * np.sum(curr_log10tm ** 2.0) - np.sum(curr_log10tm) * np.sum(np.multiply(curr_log10tm, curr_log10dm))\n",
        "        k = detK / detA\n",
        "        b = detB / detA\n",
        "        # ... and the maximum residual is computed\n",
        "        resMajor = max(np.abs(k * curr_log10tm + b - curr_log10dm))\n",
        "\n",
        "        # Minor 'nScales - i + 1' scales are approximated by the function 'k * x + b' ...\n",
        "        curr_log10tm = log10tm[1 - 1 : nScales - i + 1]\n",
        "        curr_log10dm = log10dm[1 - 1 : nScales - i + 1]\n",
        "        detA = (nScales - i + 1) * np.sum(curr_log10tm ** 2.0) - np.sum(curr_log10tm) ** 2.0\n",
        "        detK = (nScales - i + 1) * np.sum(np.multiply(curr_log10tm, curr_log10dm)) - np.sum(curr_log10tm) * np.sum(curr_log10dm)\n",
        "        detB = np.sum(curr_log10dm) * np.sum(curr_log10tm ** 2.0) - np.sum(curr_log10tm) * np.sum(np.multiply(curr_log10tm, curr_log10dm))\n",
        "        k = detK / detA\n",
        "        b = detB / detA\n",
        "        # ... and the maximum residual is computed\n",
        "        resMinor = max(np.abs(k * curr_log10tm + b - curr_log10dm))\n",
        "\n",
        "        if (resMajor ** 2.0 + resMinor ** 2.0 < res):\n",
        "            res = resMajor ** 2.0 + resMinor ** 2.0\n",
        "            bsIndex = i\n",
        "\n",
        "    # Now we determine the boundary scale and the boundary scale's data measure, ...\n",
        "    bScale = 2.0 * timeMeasure[1 - 1] / timeMeasure[nScales - bsIndex + 1 - 1] / 2.0\n",
        "    bDM = dataMeasure[nScales - bsIndex + 1 - 1]\n",
        "    # ... as well as compute the unifractal dimensions using the boundary scale's index:\n",
        "    # at the major 'bsIndex' scales ...\n",
        "    curr_log10tm = log10tm[nScales - bsIndex + 1 - 1 : nScales]\n",
        "    curr_log10dm = log10dm[nScales - bsIndex + 1 - 1 : nScales]\n",
        "    detA = bsIndex * np.sum(curr_log10tm ** 2.0) - np.sum(curr_log10tm) ** 2.0\n",
        "    detK = bsIndex * np.sum(np.multiply(curr_log10tm, curr_log10dm)) - np.sum(curr_log10tm) * np.sum(curr_log10dm)\n",
        "    DMajor = detK / detA\n",
        "    HMajor = -DMajor\n",
        "    # ... and at the minor 'nScales - bsIndex + 1' scales\n",
        "    curr_log10tm = log10tm[1 - 1 : nScales - bsIndex + 1]\n",
        "    curr_log10dm = log10dm[1 - 1 : nScales - bsIndex + 1]\n",
        "    detA = (nScales - bsIndex + 1) * np.sum(curr_log10tm ** 2.0) - np.sum(curr_log10tm) ** 2.0\n",
        "    detK = (nScales - bsIndex + 1) * np.sum(np.multiply(curr_log10tm, curr_log10dm)) - np.sum(curr_log10tm) * np.sum(curr_log10dm)\n",
        "    DMinor = detK / detA\n",
        "    HMinor = -DMinor\n",
        "\n",
        "    return [bScale, bDM, bsIndex, HMajor, HMinor]"
      ],
      "execution_count": null,
      "outputs": []
    },
    {
      "cell_type": "markdown",
      "metadata": {
        "id": "HUXjcFGJm2Sk"
      },
      "source": [
        "MFSS-MÓDULO D "
      ]
    },
    {
      "cell_type": "code",
      "metadata": {
        "id": "m6BWi8r8m60D"
      },
      "source": [
        "#MFDFA-Analytics-by-SKDataScience\n",
        "#multifractal DFA singularity spectra - module D\n",
        "#Version 3.0 - Modified by R.R.Rosa - Dec 2018 - mfdfa_ss_m4.py\n",
        "#This module is the entry point for testing the modified first-order uni- and multifractal DFA methods.\n",
        "#The initial dataset is a time series of size 2ˆn (tseries.txt) \n",
        "\n",
        "import numpy as np\n",
        "from numpy import loadtxt\n",
        "import matplotlib.pyplot as plt\n",
        "\n",
        "## Loading data\n",
        "#dx = loadtxt('tseries.txt')\n",
        "#size=8192\n",
        "#dx = dx[1 - 1 : 8192]               # We take the first 8192 samples\n",
        "\n",
        "## Computing\n",
        "# Modified first-order DFA\n",
        "[timeMeasure, meanDataMeasure, scales] = getHurstByUpscaling(dx)                    # Set of parameters No. 1\n",
        "#[timeMeasure, meanDataMeasure, scales] = getHurstByUpscaling(dx, 3.0, 0, 2.0)       # Set of parameters No. 2\n",
        "\n",
        "[bScale, bDM, bsIndex, HMajor, HMinor] = getScalingExponents(timeMeasure, meanDataMeasure)\n",
        "\n",
        "# Modified first-order MF-DFA\n",
        "[_, dataMeasure, _, stats, q] = getMSSByUpscaling(dx, isNormalised = 1)\n"
      ],
      "execution_count": null,
      "outputs": []
    },
    {
      "cell_type": "markdown",
      "metadata": {
        "id": "UhszaHxGNGJ3"
      },
      "source": [
        "MFSS-MÓDULO **E** (OUTPUT) "
      ]
    },
    {
      "cell_type": "code",
      "metadata": {
        "colab": {
          "base_uri": "https://localhost:8080/",
          "height": 331
        },
        "id": "RoJ9RTQRMp7q",
        "outputId": "31e62cb4-bfce-4384-9916-2bc29c5e0475"
      },
      "source": [
        "\n",
        "## Output\n",
        "## Modified first-order DFA\n",
        "#plt.figure()\n",
        "##plt.subplot(2, 1, 1)\n",
        "#plt.loglog(timeMeasure, meanDataMeasure, 'ko-')\n",
        "#plt.xlabel(r'$\\mu(t)$')\n",
        "#plt.ylabel(r'$\\mu(\\Delta x)$')\n",
        "#plt.grid('on', which = 'minor')\n",
        "#plt.title('Modified First-Order DFA of a Multifractal Noise')\n",
        "\n",
        "##plt.subplot(2, 1, 2)\n",
        "#plt.loglog(scales, meanDataMeasure, 'ko-')\n",
        "#plt.loglog(bScale, bDM, 'ro')\n",
        "#plt.xlabel(r'$j$')\n",
        "#plt.ylabel(r'$\\mu(\\Delta x)$')\n",
        "#plt.grid('on', which = 'minor')\n",
        "\n",
        "## Modified first-order MF-DFA\n",
        "\n",
        "#plt.figure()\n",
        "#nq = np.int(len(q))\n",
        "#leg_txt = []\n",
        "#for qi in range(1, nq + 1):\n",
        "    #llh = plt.loglog(scales, dataMeasure[qi - 1, :], 'o-')\n",
        "    #leg_txt.append('tau = %g (q = %g)' % (stats['tau'][qi - 1], q[qi - 1]))\n",
        "#plt.xlabel(r'$j$')\n",
        "#plt.ylabel(r'$\\mu(\\Delta x, q)$')\n",
        "#plt.grid('on', which = 'minor')\n",
        "#plt.title('Modified First-Order MF-DFA of a Multifractal Noise')\n",
        "#plt.legend(leg_txt)\n",
        "\n",
        "#plt.figure()\n",
        "\n",
        "##plt.subplot(2, 1, 1)\n",
        "#plt.plot(q, stats['tau'], 'ko-')\n",
        "#plt.xlabel(r'$q$')\n",
        "#plt.ylabel(r'$\\tau(q)$')\n",
        "#plt.grid('on', which = 'major')\n",
        "#plt.title('Statistics of Modified First-Order MF-DFA of a Multifractal Noise')\n",
        "\n",
        "#plt.figure()\n",
        "\n",
        "#plt.subplot(2, 1, 2)\n",
        "plt.plot(stats['LH'], stats['f'], 'ko-')\n",
        "plt.xlabel(r'$\\alpha$')\n",
        "plt.ylabel(r'$f(\\alpha)$')\n",
        "plt.grid('on', which = 'major')\n",
        "\n",
        "plt.show()\n",
        "\n",
        "#PRINTING SPECTRUM PARAMETERS\n",
        "print('alpha_min = %g, alpha_max = %g, dalpha = %g' % (stats['LH_min'], stats['LH_max'], stats['LH_max'] - stats['LH_min']))\n",
        "print('h_min = %g, h_max = %g, dh = %g\\n' % (stats['h_min'], stats['h_max'], stats['h_max'] - stats['h_min']))\n"
      ],
      "execution_count": null,
      "outputs": [
        {
          "output_type": "display_data",
          "data": {
            "image/png": "[encoded data removed]",
            "text/plain": [
              "<Figure size 432x288 with 1 Axes>"
            ]
          },
          "metadata": {
            "tags": [],
            "needs_background": "light"
          }
        },
        {
          "output_type": "stream",
          "text": [
            "alpha_min = 0.592467, alpha_max = 1.46107, dalpha = 0.868599\n",
            "h_min = 0.560768, h_max = 1.53976, dh = 0.978989\n",
            "\n"
          ],
          "name": "stdout"
        }
      ]
    },
    {
      "cell_type": "markdown",
      "source": [
        "Task 02: Calcular Gamma2"
      ],
      "metadata": {
        "id": "uWJbD-Tmh8Kl"
      }
    },
    {
      "cell_type": "markdown",
      "metadata": {
        "id": "RpJUQe4AR1WF"
      },
      "source": [
        "\n",
        "\n",
        "---\n",
        "\n"
      ]
    },
    {
      "cell_type": "markdown",
      "metadata": {
        "id": "hfwzm_RvQ4zs"
      },
      "source": [
        "# Task 3:\n",
        "\n",
        "Janelamento + plotagem gamma 1 x gamma 2."
      ]
    },
    {
      "cell_type": "markdown",
      "metadata": {
        "id": "zL28ShJiSmui"
      },
      "source": [
        "\n",
        "\n",
        "---\n",
        "\n"
      ]
    },
    {
      "cell_type": "code",
      "metadata": {
        "id": "geTm50XdSW3Z"
      },
      "source": [
        "\n"
      ],
      "execution_count": null,
      "outputs": []
    },
    {
      "cell_type": "markdown",
      "metadata": {
        "id": "0d_4y2UVXU4L"
      },
      "source": [
        "\n",
        "\n",
        "---\n",
        "\n"
      ]
    },
    {
      "cell_type": "markdown",
      "metadata": {
        "id": "rjul5zEbW-ip"
      },
      "source": [
        "\n",
        "\n",
        "---\n",
        "\n"
      ]
    }
  ]
}
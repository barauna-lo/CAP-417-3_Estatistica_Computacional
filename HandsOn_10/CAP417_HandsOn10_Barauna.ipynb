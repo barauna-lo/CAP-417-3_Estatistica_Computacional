{
  "nbformat": 4,
  "nbformat_minor": 0,
  "metadata": {
    "colab": {
      "name": "CAP417_HandsOn10_Barauna.ipynb",
      "provenance": [],
      "collapsed_sections": [],
      "include_colab_link": true
    },
    "kernelspec": {
      "name": "python3",
      "display_name": "Python 3"
    }
  },
  "cells": [
    {
      "cell_type": "markdown",
      "metadata": {
        "id": "view-in-github",
        "colab_type": "text"
      },
      "source": [
        "<a href=\"https://colab.research.google.com/github/barauna-lo/Computational_Statistics/blob/main/HandsOn_10/CAP417_HandsOn10_Barauna.ipynb\" target=\"_parent\"><img src=\"https://colab.research.google.com/assets/colab-badge.svg\" alt=\"Open In Colab\"/></a>"
      ]
    },
    {
      "cell_type": "markdown",
      "metadata": {
        "id": "ON6TjIhVkb25"
      },
      "source": [
        "# CAP 417 - PARTE C - HANDS-ON 02 - 2022\n",
        "\n",
        " Prof: Reinaldo Rosa\n",
        "\n",
        " Aluno: Matheus de Moraes Gonçalves Correia\n",
        " \n",
        " ---"
      ]
    },
    {
      "cell_type": "markdown",
      "source": [
        "Gerador de ST proveninente de Processo Browniano: bpst (brownian process time series)"
      ],
      "metadata": {
        "id": "iJGIiUsyaiDX"
      }
    },
    {
      "cell_type": "code",
      "source": [
        "!pip install colorednoise"
      ],
      "metadata": {
        "colab": {
          "base_uri": "https://localhost:8080/"
        },
        "id": "CaTQb1AJarB-",
        "outputId": "a09ee1d2-633b-4d9f-cba9-582830508560"
      },
      "execution_count": null,
      "outputs": [
        {
          "output_type": "stream",
          "name": "stdout",
          "text": [
            "Looking in indexes: https://pypi.org/simple, https://us-python.pkg.dev/colab-wheels/public/simple/\n",
            "Collecting colorednoise\n",
            "  Downloading colorednoise-2.0.0-py3-none-any.whl (4.5 kB)\n",
            "Requirement already satisfied: numpy>=1.17.0 in /usr/local/lib/python3.7/dist-packages (from colorednoise) (1.21.6)\n",
            "Installing collected packages: colorednoise\n",
            "Successfully installed colorednoise-2.0.0\n"
          ]
        }
      ]
    },
    {
      "cell_type": "code",
      "source": [
        "import matplotlib.pyplot as plt\n",
        "import numpy as np\n",
        "import colorednoise as cn\n",
        "#o colorenoise é um típico gerador de ruído baseado na distribuição Gaussiana com\n",
        "#lei de potencia. \n",
        "#Ref.: Timmer, J. and Koenig, M.: On generating power law noise. Astron. Astrophys. 300, 707-710 (1995) \n",
        "\n",
        "def normalizeSerie(s):\n",
        "  serie = s.copy()\n",
        "  serie = serie-np.average(serie)\n",
        "  serie = serie/np.std(serie)\n",
        "  return serie\n",
        "#O Processo Browniano é um tipo de ruído da família 1/fˆ(beta)(\"Flicker Noise\"), quando beta=2. \n",
        "#beta=0 caracteriza o ruído branco (White Noise) e beta=1 o ruído rosa (Pink Noise)\n",
        "#por isso, o beta=2, é também conhecido como ruído Browniano ou ruído vermelho (Red Noise).\n",
        "#Note que o termo \"Browniano\" não tem relação com a cor \"Marrom\", \n",
        "#mas sim com o nome do seu descobridor, o botânico Robert Brown \"\n",
        "\n",
        "beta=2\n",
        "dataSize = 2**10\n",
        "samplePlot =2**10\n",
        "bpst = cn.powerlaw_psd_gaussian(beta,dataSize)\n",
        "bpst = normalizeSerie(bpst)\n",
        "plt.plot(bpst[:samplePlot],color='red',label=\"Time Series from Brownian Process\")\n",
        "plt.xlim(0,samplePlot)\n",
        "plt.legend(loc=4)\n",
        "plt.show()"
      ],
      "metadata": {
        "colab": {
          "base_uri": "https://localhost:8080/",
          "height": 265
        },
        "id": "gp65uwGkaxu1",
        "outputId": "629a86af-9970-473a-c4f1-5e7b0e231487"
      },
      "execution_count": null,
      "outputs": [
        {
          "output_type": "display_data",
          "data": {
            "text/plain": [
              "<Figure size 432x288 with 1 Axes>"
            ],
            "image/png": "[encoded data removed]"
          },
          "metadata": {
            "needs_background": "light"
          }
        }
      ]
    },
    {
      "cell_type": "markdown",
      "metadata": {
        "id": "biiIPVO7wJgB"
      },
      "source": [
        "Gerador de Séries Temporais Estocásticas VIA P-MODEL\n",
        "(MODELO MULTIFRACTAL)"
      ]
    },
    {
      "cell_type": "markdown",
      "source": [
        "Simulação Endo: 0.525 < p < 0.675 ,  0.35 < beta < 0.45 (critério de Rosa-Sornette)\n",
        "\n",
        "Simulação Exo: 0.675 < p < 0.975 ,  0.65 < beta < 0.75 (critério de Rosa-Sornette)"
      ],
      "metadata": {
        "id": "wZYwffZ1kjFe"
      }
    },
    {
      "cell_type": "code",
      "source": [
        "#pmodeltsg.py\n",
        "#p-model from Meneveau & Sreenevasan, 1987 & Malara et al., 2016\n",
        "#Author: R.R.Rosa & N. Joshi\n",
        "#Version: 1.6\n",
        "#Date: 11/04/2018\n",
        " \n",
        "def pmodel(noValues=4096, p=0.4999, slope=[]):\n",
        "    noOrders = int(np.ceil(np.log2(noValues)))\n",
        "    noValuesGenerated = 2**noOrders\n",
        "    \n",
        "    y = np.array([1])\n",
        "    for n in range(noOrders):\n",
        "        y = next_step_1d(y, p)\n",
        "    \n",
        "    if (slope):\n",
        "        fourierCoeff = fractal_spectrum_1d(noValues, slope/2)\n",
        "        meanVal = np.mean(y)\n",
        "        stdy = np.std(y)\n",
        "        x = np.fft.ifft(y - meanVal)\n",
        "        phase = np.angle(x)\n",
        "        x = fourierCoeff*np.exp(1j*phase)\n",
        "        x = np.fft.fft(x).real\n",
        "        x *= stdy/np.std(x)\n",
        "        x += meanVal\n",
        "    else:\n",
        "        x = y\n",
        "    \n",
        "    return x[0:noValues], y[0:noValues]\n",
        " \n",
        "     \n",
        "def next_step_1d(y, p):\n",
        "    y2 = np.zeros(y.size*2)\n",
        "    sign = np.random.rand(1, y.size) - 0.5\n",
        "    sign /= np.abs(sign)\n",
        "    y2[0:2*y.size:2] = y + sign*(1-2*p)*y\n",
        "    y2[1:2*y.size+1:2] = y - sign*(1-2*p)*y\n",
        "    \n",
        "    return y2\n",
        " \n",
        " \n",
        "def fractal_spectrum_1d(noValues, slope):\n",
        "    ori_vector_size = noValues\n",
        "    ori_half_size = ori_vector_size//2\n",
        "    a = np.zeros(ori_vector_size)\n",
        "    \n",
        "    for t2 in range(ori_half_size):\n",
        "        index = t2\n",
        "        t4 = 1 + ori_vector_size - t2\n",
        "        if (t4 >= ori_vector_size):\n",
        "            t4 = t2\n",
        "        coeff = (index + 1)**slope\n",
        "        a[t2] = coeff\n",
        "        a[t4] = coeff\n",
        "        \n",
        "    a[1] = 0\n",
        "    \n",
        "    return a"
      ],
      "metadata": {
        "id": "mxehdrL2kHma"
      },
      "execution_count": null,
      "outputs": []
    },
    {
      "cell_type": "code",
      "source": [
        "def plotpmodel(A, stype):\n",
        "  plt.plot(A, color='blue', lw=0.5)\n",
        "  if(stype == 1):\n",
        "    plt.title(\"Endogenous Series\")\n",
        "  else:\n",
        "    plt.title(\"Exogenous Series\")\n",
        "  plt.show()"
      ],
      "metadata": {
        "id": "dCsZRQqnngIo"
      },
      "execution_count": null,
      "outputs": []
    },
    {
      "cell_type": "code",
      "source": [
        "# Number of series\n",
        "N = 4 \n",
        "# Lists to store edo and exo series\n",
        "endoList = []\n",
        "exoList = []\n",
        "\n",
        "def getSeries(slist, pinterval, betainterval, n):\n",
        "  pval = np.random.uniform(pinterval[0], pinterval[1], n)\n",
        "  beta = np.random.uniform(betainterval[0], betainterval[1], n)\n",
        "  for i in range(0,(n)):\n",
        "    x, dx = pmodel(4096, pval[i], beta[i])\n",
        "    slist.append((dx - np.mean(dx)) / np.std(dx)) \n",
        "\n",
        "#getSeries(endoList, [0.525,0.550], [0.35,0.38], 25) \n",
        "#getSeries(endoList, [0.550,0.575], [0.38,0.40], 25) \n",
        "#getSeries(endoList, [0.575,0.625], [0.40,0.42], 25) \n",
        "getSeries(endoList, [0.525,0.675], [0.35,0.45], N) # Simulação Endo: 0.525 < p < 0.675 , 0.35 < beta < 0.45 (critério de Rosa-Sornette)\n",
        "#getSeries(exoList, [0.675,0.725], [0.65,0.75], 25)\n",
        "#getSeries(exoList, [0.725,0.800], [0.65,0.75], 25) \n",
        "#getSeries(exoList, [0.800,0.875], [0.65,0.75], 25) \n",
        "getSeries(exoList, [0.675,0.975], [0.65,0.75], N) # Simulação Exo: 0.675 < p < 0.975 , 0.65 < beta < 0.75 (critério de Rosa-Sornette)"
      ],
      "metadata": {
        "id": "pBIafpCAoLoS"
      },
      "execution_count": null,
      "outputs": []
    },
    {
      "cell_type": "code",
      "source": [
        "def plotpmodel(A, stype):\n",
        "  plt.plot(A, color='r', lw=0.1)\n",
        "  if(stype == 1):\n",
        "    plt.title(\"Endogenous Series\")\n",
        "  else:\n",
        "    plt.title(\"Exogenous Series\")\n",
        "  plt.show()"
      ],
      "metadata": {
        "id": "p03o-ipXofQv"
      },
      "execution_count": null,
      "outputs": []
    },
    {
      "cell_type": "code",
      "source": [
        "plotGEV(endoList[2], 1)"
      ],
      "metadata": {
        "colab": {
          "base_uri": "https://localhost:8080/",
          "height": 165
        },
        "id": "a-x30cnrowM9",
        "outputId": "629e4cb5-ea31-4671-cdca-825a2a3efcb8"
      },
      "execution_count": null,
      "outputs": [
        {
          "output_type": "error",
          "ename": "NameError",
          "evalue": "ignored",
          "traceback": [
            "\u001b[0;31m---------------------------------------------------------------------------\u001b[0m",
            "\u001b[0;31mNameError\u001b[0m                                 Traceback (most recent call last)",
            "\u001b[0;32m<ipython-input-1-566b6bb7299a>\u001b[0m in \u001b[0;36m<module>\u001b[0;34m()\u001b[0m\n\u001b[0;32m----> 1\u001b[0;31m \u001b[0mplotGEV\u001b[0m\u001b[0;34m(\u001b[0m\u001b[0mendoList\u001b[0m\u001b[0;34m[\u001b[0m\u001b[0;36m2\u001b[0m\u001b[0;34m]\u001b[0m\u001b[0;34m,\u001b[0m \u001b[0;36m1\u001b[0m\u001b[0;34m)\u001b[0m\u001b[0;34m\u001b[0m\u001b[0;34m\u001b[0m\u001b[0m\n\u001b[0m",
            "\u001b[0;31mNameError\u001b[0m: name 'plotGEV' is not defined"
          ]
        }
      ]
    },
    {
      "cell_type": "code",
      "metadata": {
        "id": "V4VgePCCcTcI",
        "colab": {
          "base_uri": "https://localhost:8080/"
        },
        "outputId": "d082e025-49ad-4ecb-f0b3-8529433fdcac"
      },
      "source": [
        "import numpy as np\n",
        "import matplotlib.pyplot as plt\n",
        "import pandas as pd\n",
        "from matplotlib.patches import Polygon\n",
        "from sklearn.preprocessing import MinMaxScaler\n",
        "from sklearn.cluster import KMeans\n",
        "from scipy.stats import norm, genextreme\n",
        "\n",
        "from scipy.stats import skew, kurtosis\n",
        "\n",
        "!pip install kneed"
      ],
      "execution_count": null,
      "outputs": [
        {
          "output_type": "stream",
          "name": "stdout",
          "text": [
            "Collecting kneed\n",
            "  Downloading kneed-0.7.0-py2.py3-none-any.whl (9.4 kB)\n",
            "Requirement already satisfied: matplotlib in /usr/local/lib/python3.7/dist-packages (from kneed) (3.2.2)\n",
            "Requirement already satisfied: numpy>=1.14.2 in /usr/local/lib/python3.7/dist-packages (from kneed) (1.21.6)\n",
            "Requirement already satisfied: scipy in /usr/local/lib/python3.7/dist-packages (from kneed) (1.4.1)\n",
            "Requirement already satisfied: python-dateutil>=2.1 in /usr/local/lib/python3.7/dist-packages (from matplotlib->kneed) (2.8.2)\n",
            "Requirement already satisfied: kiwisolver>=1.0.1 in /usr/local/lib/python3.7/dist-packages (from matplotlib->kneed) (1.4.2)\n",
            "Requirement already satisfied: pyparsing!=2.0.4,!=2.1.2,!=2.1.6,>=2.0.1 in /usr/local/lib/python3.7/dist-packages (from matplotlib->kneed) (3.0.9)\n",
            "Requirement already satisfied: cycler>=0.10 in /usr/local/lib/python3.7/dist-packages (from matplotlib->kneed) (0.11.0)\n",
            "Requirement already satisfied: typing-extensions in /usr/local/lib/python3.7/dist-packages (from kiwisolver>=1.0.1->matplotlib->kneed) (4.2.0)\n",
            "Requirement already satisfied: six>=1.5 in /usr/local/lib/python3.7/dist-packages (from python-dateutil>=2.1->matplotlib->kneed) (1.15.0)\n",
            "Installing collected packages: kneed\n",
            "Successfully installed kneed-0.7.0\n"
          ]
        }
      ]
    },
    {
      "cell_type": "markdown",
      "metadata": {
        "id": "tRcX6TDQ41Jy"
      },
      "source": [
        "Para fins de testagem: o módulo abaixo gera uma série temporal com distribuição gaussiana."
      ]
    },
    {
      "cell_type": "code",
      "metadata": {
        "id": "3UEMLc3I3OwX"
      },
      "source": [
        "mean, std = 0, 0.1 # mean and standard deviation\n",
        "samples = 4096\n",
        "A = np.random.normal(mean, std, size=samples)"
      ],
      "execution_count": null,
      "outputs": []
    },
    {
      "cell_type": "markdown",
      "metadata": {
        "id": "S8DJ-4Nex3qh"
      },
      "source": [
        "\n",
        "\n",
        "---\n",
        "\n",
        "\n",
        "## Gráfico de Cullen-Frey (GCF)"
      ]
    },
    {
      "cell_type": "code",
      "metadata": {
        "id": "P2JhvIk0Er5_"
      },
      "source": [
        "#Espaço de C&F para A\n",
        "def cullenfrey(A, endoParams, exoParams):\n",
        "    # Gaussian x Non-Gaussian (The Kullen-Frey Parameter Space)\n",
        "    m=np.mean(A)\n",
        "    std=np.std(A)\n",
        "    s=skew(A)\n",
        "    k1=kurtosis(A)\n",
        "    k2=k1+3\n",
        "    #Parâmetros de Cullen-Frey\n",
        "    ss=s*s\n",
        "    k=k2\n",
        "\n",
        "    # Ploting Cullen-Frey Space\n",
        "    plt.figure(num=None, figsize=(25, 25), dpi=100, facecolor='w', edgecolor='k')\n",
        "    fig, ax = plt.subplots()\n",
        "    maior = max(A)\n",
        "    polyX1 = maior if maior > 4.4 else 4.4\n",
        "    polyY1 = polyX1 + 1\n",
        "    polyY2 = 3/2.*polyX1 + 3\n",
        "    y_lim = polyY2 if polyY2 > 5 else 5\n",
        "    #y_lim = max(exoParams['kurtosis'])\n",
        "\n",
        "    x = [0, polyX1, polyX1, 0]\n",
        "    y = [1, polyY1, polyY2, 3]\n",
        "    scale = 1\n",
        "    poly = Polygon(np.c_[x, y]*scale, facecolor='#1B9AAA', edgecolor='#1B9AAA', alpha=0.5)\n",
        "    ax.add_patch(poly)\n",
        "\n",
        "    ax.plot(0, 3, label=\"normal (Gaussian)\", marker='^', c='magenta')\n",
        "    ax.plot(ss, k, marker=\"o\", c=\"green\", label=\"Gaussian\", linestyle='')\n",
        "    ax.plot(endoParams['skewness'], endoParams['kurtosis'], marker=\"o\", c=\"blue\", label=\"Observation\", linestyle='')\n",
        "    ax.plot(exoParams['skewness'], exoParams['kurtosis'], marker=\"o\", c=\"red\", label=\"Observation\", linestyle='')\n",
        "    ax.plot(0, 4.187999875999753, label=\"logistic\", marker='+', c='black')\n",
        "    ax.plot(0, 1.7962675925351856, label =\"uniform\", marker='*', c='black')\n",
        "    ax.plot(4, 9, label=\"exponential\", marker='s', c='black')\n",
        "    ax.plot(np.arange(0, polyX1, 0.1), 3/2. * np.arange(0, polyX1, 0.1) + 3, label=\"gamma\", linestyle='-', c='black')\n",
        "    ax.plot(np.arange(0, polyX1, 0.1), 2 * np.arange(0, polyX1, 0.1) + 3, label=\"lognormal\", linestyle='-.', c='black')\n",
        "    #ax.legend(loc='best')\n",
        "    ax.legend(loc='upper center', bbox_to_anchor=(0.5, 1.35), fancybox=True, shadow=True, ncol=3)\n",
        "    ax.set_ylim((y_lim + 1), -1)\n",
        "    ax.set_xlim(-1, (polyX1 + 1))\n",
        "    plt.xlabel(\"Skewness²\")\n",
        "    plt.title(\"C&F Parameter Space (Green Area for Beta Function)\")\n",
        "    plt.ylabel(\"Kurtosis\")\n",
        "\n",
        "    plt.draw()"
      ],
      "execution_count": null,
      "outputs": []
    },
    {
      "cell_type": "code",
      "metadata": {
        "id": "f_P1A_gEF5aO"
      },
      "source": [
        "def getCFparams(slist):\n",
        "  #k2list = np.empty((N), dtype=float)\n",
        "  #sslist = np.empty((N), dtype=float)\n",
        "  df = pd.DataFrame(np.zeros((N, 2)),columns = ['kurtosis', 'skewness'])\n",
        "  for i in range(0, (N)):\n",
        "    s=skew(slist[i])\n",
        "    #Parâmetros de Cullen-Frey\n",
        "    df['skewness'][i] = s*s\n",
        "    df['kurtosis'][i] = kurtosis(slist[i])+3\n",
        "  return df"
      ],
      "execution_count": null,
      "outputs": []
    },
    {
      "cell_type": "code",
      "source": [
        "endoParams = getCFparams(endoList)\n",
        "exoParams = getCFparams(exoList)\n",
        "\n",
        "def main():\n",
        "    maxIndex = np.argmax(endoParams['kurtosis'])\n",
        "    #cullenfrey(A, [-99,-99], [-99,-99])\n",
        "    cullenfrey(endoList[maxIndex], endoParams, exoParams)\n",
        "\n",
        "    plt.show()\n",
        "main()"
      ],
      "metadata": {
        "colab": {
          "base_uri": "https://localhost:8080/",
          "height": 367
        },
        "id": "e344m7TcWlu3",
        "outputId": "b619e796-bbaf-43ea-e8e0-9c0505efa053"
      },
      "execution_count": null,
      "outputs": [
        {
          "output_type": "display_data",
          "data": {
            "text/plain": [
              "<Figure size 2500x2500 with 0 Axes>"
            ]
          },
          "metadata": {}
        },
        {
          "output_type": "display_data",
          "data": {
            "text/plain": [
              "<Figure size 432x288 with 1 Axes>"
            ],
            "image/png": "[encoded data removed]"
          },
          "metadata": {
            "needs_background": "light"
          }
        }
      ]
    },
    {
      "cell_type": "markdown",
      "source": [
        "# Task 2.1: Gere Séries Temporais com beta=2 (process Browniano gaussiano: 4 series) e Endogenas (processo estocastico Não-Gaussiano: 4 series).\n"
      ],
      "metadata": {
        "id": "GwuqIjWVsfIH"
      }
    },
    {
      "cell_type": "markdown",
      "source": [
        "# Task 2.2: Inclua a Area do GEV no GCF e Encontre nele os modelos de PDF para as 8 séries geradas).\n"
      ],
      "metadata": {
        "id": "O37Ms2sFs-_z"
      }
    },
    {
      "cell_type": "markdown",
      "source": [
        "# Task 2.3: Com base na caracterização de modelos obtida em 2.2., plote o Histograma de cada serie e obtenha o modelo parametrizado a partir do ajuste sobre o histograma.  Note que para isso voce deverá implementar a PDF do modelo caracterizado no GCF em um módulo abaixo. "
      ],
      "metadata": {
        "id": "FgANuZs8tV7w"
      }
    }
  ]
}
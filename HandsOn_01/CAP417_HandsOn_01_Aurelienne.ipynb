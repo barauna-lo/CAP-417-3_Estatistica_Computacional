{
  "nbformat": 4,
  "nbformat_minor": 0,
  "metadata": {
    "colab": {
      "name": "Aula 2 - Exercícios.ipynb",
      "provenance": [],
      "authorship_tag": "ABX9TyNJs/LjkPRfKdfjgiDwqTO7",
      "include_colab_link": true
    },
    "kernelspec": {
      "name": "python3",
      "display_name": "Python 3"
    },
    "language_info": {
      "name": "python"
    }
  },
  "cells": [
    {
      "cell_type": "markdown",
      "metadata": {
        "id": "view-in-github",
        "colab_type": "text"
      },
      "source": [
        "<a href=\"https://colab.research.google.com/github/barauna-lo/Computational_Statistics/blob/main/HandsOn_01/CAP417_HandsOn_01_Aurelienne.ipynb\" target=\"_parent\"><img src=\"https://colab.research.google.com/assets/colab-badge.svg\" alt=\"Open In Colab\"/></a>"
      ]
    },
    {
      "cell_type": "markdown",
      "source": [
        "# **Computational Statistics - 2022** \n",
        "\n",
        "**Class 2 - Exercises**\n",
        "\n",
        "Aurelienne A. S. Jorge\n",
        "\n",
        "---\n",
        "\n",
        "\n"
      ],
      "metadata": {
        "id": "ZQ-SN6jEqdDp"
      }
    },
    {
      "cell_type": "code",
      "source": [
        "from numpy import random"
      ],
      "metadata": {
        "id": "cEo2VA-hqUVR"
      },
      "execution_count": null,
      "outputs": []
    },
    {
      "cell_type": "markdown",
      "source": [
        "# Part 1"
      ],
      "metadata": {
        "id": "EPFMX5m9ymEb"
      }
    },
    {
      "cell_type": "markdown",
      "source": [
        "***Source: The Random library from Numpy***\n",
        "\n",
        "*   *Core generator: Permuted Congruential Generator 64-bits (PCG64)\n",
        "*   *Period: 2**128\n"
      ],
      "metadata": {
        "id": "H4eorLrTvUB7"
      }
    },
    {
      "cell_type": "markdown",
      "source": [
        "##1.1 Sequences and seeds"
      ],
      "metadata": {
        "id": "xvJYfiRkqVb8"
      }
    },
    {
      "cell_type": "code",
      "source": [
        "max_value=1000000\n",
        "n=1000"
      ],
      "metadata": {
        "id": "Gs1mNWusv1fT"
      },
      "execution_count": null,
      "outputs": []
    },
    {
      "cell_type": "code",
      "execution_count": null,
      "metadata": {
        "id": "932H7874pU9r",
        "colab": {
          "base_uri": "https://localhost:8080/"
        },
        "outputId": "80a4673b-bade-4932-ab48-4cfb03ff3c93"
      },
      "outputs": [
        {
          "output_type": "stream",
          "name": "stdout",
          "text": [
            "[155917 654653 654162 767539 995621 156873 775127 761132 879233 661265\n",
            " 458559 904617 529696 498647 347665  25527 946794 492792 602172 809841\n",
            " 761332 799236 934844 662205 415985 132949 900140 477341 541882 155179\n",
            " 330709 673388 912911 578503 852303  70592 582338 574329 964642 327367\n",
            " 293880 665103  69519 245374 889002 214620 687746 666856 909883 762106]\n"
          ]
        }
      ],
      "source": [
        "seq1 = random.randint(max_value, size=(n))\n",
        "print(seq1[0:50])"
      ]
    },
    {
      "cell_type": "code",
      "source": [
        "# Fixing the seed\n",
        "random.seed(1000)\n",
        "seq_ints = random.randint(max_value, size=(n))\n",
        "print(seq_ints[0:50])"
      ],
      "metadata": {
        "id": "3cWAKyoG1B9P",
        "colab": {
          "base_uri": "https://localhost:8080/"
        },
        "outputId": "46b5b2dc-86f4-4958-ba8b-b2f9a1e78c19"
      },
      "execution_count": null,
      "outputs": [
        {
          "output_type": "stream",
          "name": "stdout",
          "text": [
            "[107955 856663  71751 134848 376059  18782  58716 885505 687549 581248\n",
            " 749401 724525 782888   5993 952668 958683 953636 793276 807405 436719\n",
            " 219434 179514 162729 671972 276116  92658 548126 857321 563544 953202\n",
            "   8606 690076 357790 698612  32973 926418 632021 634589 493706 743326\n",
            "  56846 403261 699973 163532 999435 619444 593739 260512 832306 545045]\n"
          ]
        }
      ]
    },
    {
      "cell_type": "markdown",
      "source": [
        "##1.2 Distributions\n"
      ],
      "metadata": {
        "id": "5UvNyI-T-g0X"
      }
    },
    {
      "cell_type": "code",
      "source": [
        "import matplotlib.pyplot as plt "
      ],
      "metadata": {
        "id": "2zuXeK7J5BpK"
      },
      "execution_count": null,
      "outputs": []
    },
    {
      "cell_type": "markdown",
      "source": [
        "### -> Uniform Distribution"
      ],
      "metadata": {
        "id": "BrnwKvAV4qGF"
      }
    },
    {
      "cell_type": "code",
      "source": [
        "# Distribution from int sequence (using random.randint)\n",
        "plt.hist(seq_ints)\n",
        "plt.title(\"Histogram\")\n",
        "plt.xlabel(\"Values\")\n",
        "plt.ylabel(\"Absolute Frequency\")\n",
        "plt.show()"
      ],
      "metadata": {
        "id": "eIabFSxP78xS",
        "colab": {
          "base_uri": "https://localhost:8080/",
          "height": 295
        },
        "outputId": "2ab6c114-f5ed-434e-ecbe-f23a9ebb84a1"
      },
      "execution_count": null,
      "outputs": [
        {
          "output_type": "display_data",
          "data": {
            "text/plain": [
              "<Figure size 432x288 with 1 Axes>"
            ],
            "image/png": "[encoded data removed]"
          },
          "metadata": {
            "needs_background": "light"
          }
        }
      ]
    },
    {
      "cell_type": "code",
      "source": [
        "# Sequence of floats from Uniform Distribution\n",
        "seq_unif = random.uniform(0, max_value, size=n)\n",
        "print(seq_unif[0:50])"
      ],
      "metadata": {
        "id": "QagwbhL02F22",
        "colab": {
          "base_uri": "https://localhost:8080/"
        },
        "outputId": "ce183e00-ae5b-4be7-904a-c66df23375d5"
      },
      "execution_count": null,
      "outputs": [
        {
          "output_type": "stream",
          "name": "stdout",
          "text": [
            "[477739.81326126 669109.34045058 392673.04989369 225208.5671225\n",
            " 657452.97691982 170277.80827053 435948.98554913 859763.46103425\n",
            " 821871.88789951 702897.25467987 750131.54963077  15756.91669044\n",
            " 448167.39082306 690933.66424774 498765.25688801 460936.66393344\n",
            " 903238.04441376  62564.93709972 295303.81120981 816017.41709626\n",
            " 420408.4906053  490815.1478088  267666.66495496 585553.09954913\n",
            " 745810.77282126  30038.02565484 964678.50444034 944834.32843144\n",
            " 846619.22349607 287062.59911747 103777.18976712 996122.89729767\n",
            " 142997.44347366 738920.84919742 507298.26692439 544496.39188723\n",
            " 739068.14231357 180980.11038964 111453.85516573 147898.38158791\n",
            " 570737.65569191 357386.09265471 643870.41530493 568494.11974849\n",
            " 560850.70331712 740740.60132972 549177.2802043  120154.41281121\n",
            " 629327.86220437 962828.41610616]\n"
          ]
        }
      ]
    },
    {
      "cell_type": "code",
      "source": [
        "plt.hist(seq_unif)\n",
        "plt.title(\"Histogram\")\n",
        "plt.xlabel(\"Values\")\n",
        "plt.ylabel(\"Absolute Frequency\")\n",
        "plt.show()"
      ],
      "metadata": {
        "id": "fxuLgtai-Gqf",
        "colab": {
          "base_uri": "https://localhost:8080/",
          "height": 295
        },
        "outputId": "6c6855ec-b36e-42aa-880f-e0d7462155e1"
      },
      "execution_count": null,
      "outputs": [
        {
          "output_type": "display_data",
          "data": {
            "text/plain": [
              "<Figure size 432x288 with 1 Axes>"
            ],
            "image/png": "[encoded data removed]"
          },
          "metadata": {
            "needs_background": "light"
          }
        }
      ]
    },
    {
      "cell_type": "markdown",
      "source": [
        "### -> Normal Distribution"
      ],
      "metadata": {
        "id": "qyBsY41d55IY"
      }
    },
    {
      "cell_type": "code",
      "source": [
        "seq_normal = random.normal(loc=0, scale=2, size=n)\n",
        "plt.hist(seq_normal)\n",
        "plt.title(\"Histogram\")\n",
        "plt.xlabel(\"Values\")\n",
        "plt.ylabel(\"Absolute Frequency\")\n",
        "plt.show()"
      ],
      "metadata": {
        "id": "MjwK-rxqBO4F",
        "colab": {
          "base_uri": "https://localhost:8080/",
          "height": 295
        },
        "outputId": "c5996925-8ef1-4c4d-a4c2-805619d6d0d5"
      },
      "execution_count": null,
      "outputs": [
        {
          "output_type": "display_data",
          "data": {
            "text/plain": [
              "<Figure size 432x288 with 1 Axes>"
            ],
            "image/png": "[encoded data removed]"
          },
          "metadata": {
            "needs_background": "light"
          }
        }
      ]
    },
    {
      "cell_type": "markdown",
      "source": [
        "### -> Exponential Distribution"
      ],
      "metadata": {
        "id": "0m0gpJrk6BYk"
      }
    },
    {
      "cell_type": "code",
      "source": [
        "seq_exp = random.exponential(scale=3, size=n)\n",
        "plt.hist(seq_exp)\n",
        "plt.title(\"Histogram\")\n",
        "plt.xlabel(\"Values\")\n",
        "plt.ylabel(\"Absolute Frequency\")\n",
        "plt.show()"
      ],
      "metadata": {
        "id": "3mRb7yG4Cm2E",
        "colab": {
          "base_uri": "https://localhost:8080/",
          "height": 295
        },
        "outputId": "ccd01de5-930d-42ff-9859-d6bdeda51583"
      },
      "execution_count": null,
      "outputs": [
        {
          "output_type": "display_data",
          "data": {
            "text/plain": [
              "<Figure size 432x288 with 1 Axes>"
            ],
            "image/png": "[encoded data removed]"
          },
          "metadata": {
            "needs_background": "light"
          }
        }
      ]
    },
    {
      "cell_type": "markdown",
      "source": [
        "# Part 2"
      ],
      "metadata": {
        "id": "niEBZmDi6KAk"
      }
    },
    {
      "cell_type": "markdown",
      "source": [
        "## 2.1 min, average, mode, median, max, range, sum, variance, standard deviation"
      ],
      "metadata": {
        "id": "sOmgyYY074mG"
      }
    },
    {
      "cell_type": "code",
      "source": [
        "import numpy"
      ],
      "metadata": {
        "id": "hkY7Kbn89xdV"
      },
      "execution_count": null,
      "outputs": []
    },
    {
      "cell_type": "code",
      "source": [
        "#sequence = numpy.array([9, 20, 20, 34, 1])\n",
        "sequence = random.randint(50, size=(100))"
      ],
      "metadata": {
        "id": "jh1HOW136P69"
      },
      "execution_count": null,
      "outputs": []
    },
    {
      "cell_type": "markdown",
      "source": [
        "### Full Implementation "
      ],
      "metadata": {
        "id": "94CDKLA8VjLF"
      }
    },
    {
      "cell_type": "code",
      "source": [
        "def get_min_value(sequence):\n",
        "  min=sequence[0]\n",
        "  for num in sequence[1:]:\n",
        "    if num < min:\n",
        "      min = num\n",
        "  return min\n",
        "\n",
        "def get_max_value(sequence):\n",
        "  max=sequence[0]\n",
        "  for num in sequence[1:]:\n",
        "    if num > max:\n",
        "      max = num\n",
        "  return max\n",
        "\n",
        "def get_sum(sequence):\n",
        "  sum = 0\n",
        "  for num in sequence:\n",
        "    sum = sum + num\n",
        "  return sum\n",
        "\n",
        "def get_average(sequence):\n",
        "  avg = get_sum(sequence)/len(sequence)\n",
        "  return avg\n",
        "\n",
        "def get_range(sequence):\n",
        "  _range = get_max_value(sequence) - get_min_value(sequence)\n",
        "  return _range\n",
        "\n",
        "def get_mode(sequence):\n",
        "  numbers = list(set(sequence))\n",
        "  freqs = numpy.zeros(len(numbers))\n",
        "  for i in range(len(numbers)):\n",
        "    for s in sequence:\n",
        "      if s == numbers[i]:\n",
        "        freqs[i] += 1\n",
        "  max_freq = 0\n",
        "  for i in range(len(numbers)):\n",
        "    if freqs[i] > max_freq:\n",
        "      mode = numbers[i]\n",
        "      max_freq = freqs[i]\n",
        "  return mode\n",
        "\n",
        "def variance(sequence):\n",
        "  avg = get_average(sequence)\n",
        "  var = 0\n",
        "  for num in sequence:\n",
        "    var = var + (num - avg)**2\n",
        "  var = var/len(sequence)\n",
        "  return var\n",
        "\n",
        "def std_deviation(sequence):\n",
        "  std = numpy.sqrt(variance(sequence))\n",
        "  return std\n",
        "\n",
        "def median(sequence):\n",
        "  ord_seq = numpy.sort(sequence)\n",
        "  if len(ord_seq) % 2 == 0:\n",
        "    pos = int(numpy.trunc(len(ord_seq)/2))\n",
        "    median = (ord_seq[pos-1] + ord_seq[pos]) / 2\n",
        "  else:\n",
        "    pos = int(numpy.round(len(ord_seq)/2))\n",
        "    median = ord_seq[pos]\n",
        "  print(ord_seq)\n",
        "  return median\n",
        "  "
      ],
      "metadata": {
        "id": "D821iSOV8aNS"
      },
      "execution_count": null,
      "outputs": []
    },
    {
      "cell_type": "code",
      "source": [
        "min = get_min_value(sequence)\n",
        "max = get_max_value(sequence)\n",
        "sum = get_sum(sequence)\n",
        "avg = get_average(sequence)\n",
        "_range = get_range(sequence)\n",
        "mode = get_mode(sequence)\n",
        "var = variance(sequence)\n",
        "std_dev = std_deviation(sequence)\n",
        "med = median(sequence)\n",
        "print(\"Min: \"+str(min))\n",
        "print(\"Max: \"+str(max))\n",
        "print(\"Sum: \"+str(sum))\n",
        "print(\"Avg: \"+str(avg))\n",
        "print(\"Range: \"+str(_range))\n",
        "print(\"Mode: \"+str(mode))\n",
        "print(\"Median: \"+str(med))\n",
        "print(\"Variance: \"+str(var))\n",
        "print(\"Standard Deviation: \"+str(std_dev))"
      ],
      "metadata": {
        "colab": {
          "base_uri": "https://localhost:8080/"
        },
        "id": "qvSUtEoU9WMg",
        "outputId": "c856f440-5581-47a1-d714-19cd28c65374"
      },
      "execution_count": null,
      "outputs": [
        {
          "output_type": "stream",
          "name": "stdout",
          "text": [
            "[ 0  0  1  1  2  3  3  3  3  4  5  6  7  7  7  7  7  9 10 10 10 11 11 12\n",
            " 12 12 14 14 14 15 16 16 17 17 17 19 19 22 22 22 22 23 23 23 23 24 24 24\n",
            " 24 24 25 25 25 25 26 26 27 27 27 27 29 30 30 31 31 31 31 31 34 35 35 35\n",
            " 38 38 38 38 38 39 39 39 40 40 40 40 40 42 42 43 43 43 44 44 45 46 46 47\n",
            " 47 47 48 49]\n",
            "Min: 0\n",
            "Max: 49\n",
            "Sum: 2467\n",
            "Avg: 24.67\n",
            "Range: 49\n",
            "Mode: 7\n",
            "Median: 24.5\n",
            "Variance: 197.68109999999996\n",
            "Standard Deviation: 14.059911095024747\n"
          ]
        }
      ]
    },
    {
      "cell_type": "markdown",
      "source": [
        "### Implementation with Numpy and Scipy"
      ],
      "metadata": {
        "id": "zWmAMFvQTbYc"
      }
    },
    {
      "cell_type": "code",
      "source": [
        "from scipy import stats\n",
        "\n",
        "min = numpy.min(sequence)\n",
        "max = numpy.max(sequence)\n",
        "sum = numpy.sum(sequence)\n",
        "avg = numpy.mean(sequence)\n",
        "mode = stats.mode(sequence)[0]\n",
        "med = numpy.median(sequence)\n",
        "var = numpy.var(sequence)\n",
        "std_dev = numpy.std(sequence)\n",
        "\n",
        "print(\"Min: \"+str(min))\n",
        "print(\"Max: \"+str(max))\n",
        "print(\"Sum: \"+str(sum))\n",
        "print(\"Avg: \"+str(avg))\n",
        "print(\"Range: \"+str(_range))\n",
        "print(\"Mode: \"+str(mode))\n",
        "print(\"Median: \"+str(med))\n",
        "print(\"Variance: \"+str(var))\n",
        "print(\"Standard Deviation: \"+str(std_dev))\n"
      ],
      "metadata": {
        "id": "cZ7_a7ad-XCx",
        "colab": {
          "base_uri": "https://localhost:8080/"
        },
        "outputId": "f61641cc-71d1-4c75-f12e-529922e379b7"
      },
      "execution_count": null,
      "outputs": [
        {
          "output_type": "stream",
          "name": "stdout",
          "text": [
            "Min: 0\n",
            "Max: 49\n",
            "Sum: 2467\n",
            "Avg: 24.67\n",
            "Range: 49\n",
            "Mode: [7]\n",
            "Median: 24.5\n",
            "Variance: 197.68110000000001\n",
            "Standard Deviation: 14.059911095024749\n"
          ]
        }
      ]
    },
    {
      "cell_type": "markdown",
      "source": [
        "## 2.2 Distribution and percentiles"
      ],
      "metadata": {
        "id": "bT76zW-2cquZ"
      }
    },
    {
      "cell_type": "code",
      "source": [
        "import matplotlib.pyplot as plt \n",
        "plt.hist(sequence)\n",
        "plt.title(\"Histogram\")\n",
        "plt.xlabel(\"Values\")\n",
        "plt.ylabel(\"Absolute Frequency\")\n",
        "plt.show()"
      ],
      "metadata": {
        "colab": {
          "base_uri": "https://localhost:8080/",
          "height": 295
        },
        "id": "Gd-AOJYwcZe6",
        "outputId": "65e5c7de-243f-4df9-9e52-25f4fdaa06ee"
      },
      "execution_count": null,
      "outputs": [
        {
          "output_type": "display_data",
          "data": {
            "text/plain": [
              "<Figure size 432x288 with 1 Axes>"
            ],
            "image/png": "[encoded data removed]"
          },
          "metadata": {
            "needs_background": "light"
          }
        }
      ]
    },
    {
      "cell_type": "code",
      "source": [
        "# Controlling the bin width\n",
        "binwidth=1\n",
        "plt.hist(sequence, bins=range(numpy.min(sequence), numpy.max(sequence) + binwidth, binwidth))\n",
        "plt.title(\"Histogram\")\n",
        "plt.xlabel(\"Values\")\n",
        "plt.ylabel(\"Absolute Frequency\")\n",
        "plt.show()"
      ],
      "metadata": {
        "colab": {
          "base_uri": "https://localhost:8080/",
          "height": 295
        },
        "id": "ORe14ka_dkM4",
        "outputId": "159f7c8c-5cdf-4d07-9a72-6dc808673605"
      },
      "execution_count": null,
      "outputs": [
        {
          "output_type": "display_data",
          "data": {
            "text/plain": [
              "<Figure size 432x288 with 1 Axes>"
            ],
            "image/png": "[encoded data removed]"
          },
          "metadata": {
            "needs_background": "light"
          }
        }
      ]
    },
    {
      "cell_type": "code",
      "source": [
        "# 75th, 95th percentiles\n",
        "percs = numpy.percentile(sequence, [70,95])\n",
        "print(percs)\n",
        "\n",
        "# 4-quantiles = quartiles\n",
        "quarts = numpy.quantile(sequence, [0.25,0.5,0.75])\n",
        "print(quarts)"
      ],
      "metadata": {
        "colab": {
          "base_uri": "https://localhost:8080/"
        },
        "id": "sMjYI9apecjO",
        "outputId": "3a7aab01-1180-4b27-c8d7-48d45db46696"
      },
      "execution_count": null,
      "outputs": [
        {
          "output_type": "stream",
          "name": "stdout",
          "text": [
            "[35.   46.05]\n",
            "[12.  24.5 38. ]\n"
          ]
        }
      ]
    },
    {
      "cell_type": "code",
      "source": [
        "plt.hist(sequence, bins=range(numpy.min(sequence), numpy.max(sequence) + binwidth, binwidth))\n",
        "for perc in percs:\n",
        "  plt.axvline(perc, color='r', label=str(perc))\n",
        "for quart in quarts:\n",
        "  plt.axvline(quart, color='y')\n",
        "plt.title(\"Histogram\")\n",
        "plt.xlabel(\"Values\")\n",
        "plt.ylabel(\"Absolute Frequency\")\n",
        "#plt.legend()\n",
        "plt.show()"
      ],
      "metadata": {
        "colab": {
          "base_uri": "https://localhost:8080/",
          "height": 295
        },
        "id": "L9YbTjuGerFK",
        "outputId": "b34bc666-5457-4925-ffc6-2448311dddd8"
      },
      "execution_count": null,
      "outputs": [
        {
          "output_type": "display_data",
          "data": {
            "text/plain": [
              "<Figure size 432x288 with 1 Axes>"
            ],
            "image/png": "[encoded data removed]"
          },
          "metadata": {
            "needs_background": "light"
          }
        }
      ]
    },
    {
      "cell_type": "markdown",
      "source": [
        "## 2.4 Average as a weighted sum\n",
        "\n"
      ],
      "metadata": {
        "id": "tfi5UpaDlCXq"
      }
    },
    {
      "cell_type": "code",
      "source": [
        "# Weight = 1/n (n = number of elements)\n",
        "avg = 0\n",
        "n = len(sequence)\n",
        "for num in sequence:\n",
        "  avg = avg + num * 1/n \n",
        "print(avg)"
      ],
      "metadata": {
        "colab": {
          "base_uri": "https://localhost:8080/"
        },
        "id": "ypFqqaWok6g9",
        "outputId": "99b43dc5-9846-4086-c15e-4a6778a26ea6"
      },
      "execution_count": null,
      "outputs": [
        {
          "output_type": "stream",
          "name": "stdout",
          "text": [
            "24.670000000000005\n"
          ]
        }
      ]
    },
    {
      "cell_type": "markdown",
      "source": [
        "# Part 3 - Visualization"
      ],
      "metadata": {
        "id": "U1CMUFH9JB_q"
      }
    },
    {
      "cell_type": "code",
      "source": [
        "from matplotlib import pyplot as plt\n",
        "import datetime"
      ],
      "metadata": {
        "id": "ggasBXOxKFEq"
      },
      "execution_count": null,
      "outputs": []
    },
    {
      "cell_type": "markdown",
      "source": [
        "## Time Series"
      ],
      "metadata": {
        "id": "TgLSgt0SKWYv"
      }
    },
    {
      "cell_type": "code",
      "source": [
        "start_date = datetime.datetime.strptime('2021-01-01', '%Y-%m-%d')\n",
        "dates = [start_date + datetime.timedelta(days=i) for i in range(n)]\n",
        "plt.plot(dates, sequence)\n",
        "plt.xticks(rotation=90)\n",
        "plt.xlabel('Date')\n",
        "plt.ylabel('Values')\n",
        "plt.show()"
      ],
      "metadata": {
        "colab": {
          "base_uri": "https://localhost:8080/",
          "height": 327
        },
        "id": "FzNHC14uJSuQ",
        "outputId": "5df86cd7-4a79-4de1-f1ed-4057b7bd1c72"
      },
      "execution_count": null,
      "outputs": [
        {
          "output_type": "display_data",
          "data": {
            "text/plain": [
              "<Figure size 432x288 with 1 Axes>"
            ],
            "image/png": "[encoded data removed]"
          },
          "metadata": {
            "needs_background": "light"
          }
        }
      ]
    },
    {
      "cell_type": "markdown",
      "source": [
        "## Vertical Bar Graph"
      ],
      "metadata": {
        "id": "vpxZKLEuKakm"
      }
    },
    {
      "cell_type": "code",
      "source": [
        "plt.bar(range(len(sequence)), height=sequence)\n",
        "plt.xlabel('Sequence')\n",
        "plt.ylabel('Values')\n",
        "plt.show()"
      ],
      "metadata": {
        "colab": {
          "base_uri": "https://localhost:8080/",
          "height": 279
        },
        "id": "URQUf4lOKH_B",
        "outputId": "57aacdf2-6e45-4a90-967c-dc79619bc392"
      },
      "execution_count": null,
      "outputs": [
        {
          "output_type": "display_data",
          "data": {
            "text/plain": [
              "<Figure size 432x288 with 1 Axes>"
            ],
            "image/png": "[encoded data removed]"
          },
          "metadata": {
            "needs_background": "light"
          }
        }
      ]
    },
    {
      "cell_type": "markdown",
      "source": [
        "## Horizontal Bar Graph"
      ],
      "metadata": {
        "id": "ncccyG41Kh4K"
      }
    },
    {
      "cell_type": "code",
      "source": [
        "plt.barh(range(len(sequence)), width=sequence)\n",
        "plt.xlabel('Sequence')\n",
        "plt.ylabel('Values')\n",
        "plt.show()"
      ],
      "metadata": {
        "colab": {
          "base_uri": "https://localhost:8080/",
          "height": 279
        },
        "id": "7rwMiQE7KLeU",
        "outputId": "9a150149-b0a3-4f8b-92d9-524da4db55a5"
      },
      "execution_count": null,
      "outputs": [
        {
          "output_type": "display_data",
          "data": {
            "text/plain": [
              "<Figure size 432x288 with 1 Axes>"
            ],
            "image/png": "[encoded data removed]"
          },
          "metadata": {
            "needs_background": "light"
          }
        }
      ]
    },
    {
      "cell_type": "markdown",
      "source": [
        "## Pie Chart"
      ],
      "metadata": {
        "id": "u4jUy93iKlpn"
      }
    },
    {
      "cell_type": "code",
      "source": [
        "even = [num for num in sequence if num%2==0]\n",
        "odd = [num for num in sequence if num%2!=0]\n",
        "labels = ['even', 'odd']\n",
        "plt.pie([len(even), len(odd)], labels=labels, autopct='%1.1f%%')\n",
        "plt.show()"
      ],
      "metadata": {
        "colab": {
          "base_uri": "https://localhost:8080/",
          "height": 248
        },
        "id": "4gU5MsWXKNrm",
        "outputId": "10ae83bc-2716-4f2d-cfc4-9a14940a1567"
      },
      "execution_count": null,
      "outputs": [
        {
          "output_type": "display_data",
          "data": {
            "text/plain": [
              "<Figure size 432x288 with 1 Axes>"
            ],
            "image/png": "[encoded data removed]"
          },
          "metadata": {}
        }
      ]
    },
    {
      "cell_type": "markdown",
      "source": [
        "## Boxplot"
      ],
      "metadata": {
        "id": "BnOwHRM2LtmH"
      }
    },
    {
      "cell_type": "code",
      "source": [
        "plt.boxplot(sequence)\n",
        "plt.show()"
      ],
      "metadata": {
        "colab": {
          "base_uri": "https://localhost:8080/",
          "height": 265
        },
        "id": "U1BTHAZnLvDh",
        "outputId": "12cbea67-a71e-4adc-e8f1-f55014af0396"
      },
      "execution_count": null,
      "outputs": [
        {
          "output_type": "display_data",
          "data": {
            "text/plain": [
              "<Figure size 432x288 with 1 Axes>"
            ],
            "image/png": "[encoded data removed]"
          },
          "metadata": {
            "needs_background": "light"
          }
        }
      ]
    },
    {
      "cell_type": "code",
      "source": [
        "plt.boxplot([even, odd])\n",
        "plt.xticks([1,2],['even', 'odd'])\n",
        "plt.show()"
      ],
      "metadata": {
        "colab": {
          "base_uri": "https://localhost:8080/",
          "height": 320
        },
        "id": "yZCY9dqjOjUO",
        "outputId": "19b7d1d2-dc90-4013-aba9-a2a67ab7d416"
      },
      "execution_count": null,
      "outputs": [
        {
          "output_type": "stream",
          "name": "stderr",
          "text": [
            "/usr/local/lib/python3.7/dist-packages/matplotlib/cbook/__init__.py:1376: VisibleDeprecationWarning: Creating an ndarray from ragged nested sequences (which is a list-or-tuple of lists-or-tuples-or ndarrays with different lengths or shapes) is deprecated. If you meant to do this, you must specify 'dtype=object' when creating the ndarray.\n",
            "  X = np.atleast_1d(X.T if isinstance(X, np.ndarray) else np.asarray(X))\n"
          ]
        },
        {
          "output_type": "display_data",
          "data": {
            "text/plain": [
              "<Figure size 432x288 with 1 Axes>"
            ],
            "image/png": "[encoded data removed]"
          },
          "metadata": {
            "needs_background": "light"
          }
        }
      ]
    },
    {
      "cell_type": "markdown",
      "source": [
        "# Part 4 - Toy Cases"
      ],
      "metadata": {
        "id": "nSQsE7Ch8J5B"
      }
    },
    {
      "cell_type": "markdown",
      "source": [
        "## Normal (Gaussian) Distribution\n",
        "\n",
        "Often called the bell curve because of its shape. Having a simetrical distribution, the mean, mode and median are all equal and located at the center of the distribution."
      ],
      "metadata": {
        "id": "tJES7xJ0xUrp"
      }
    },
    {
      "cell_type": "code",
      "source": [
        "# Sample based on a normal distribution \n",
        "seq_normal = random.normal(loc=0, scale=1, size=10000)\n",
        "plt.plot(seq_normal)\n",
        "plt.show()\n",
        "plt.hist(seq_normal, bins=50)\n",
        "plt.show()\n",
        "\n",
        "min = numpy.min(seq_normal)\n",
        "max = numpy.max(seq_normal)\n",
        "_range = max-min\n",
        "sum = numpy.sum(seq_normal)\n",
        "avg = numpy.mean(seq_normal)\n",
        "mode = get_mode(seq_normal)\n",
        "med = numpy.median(seq_normal)\n",
        "var = numpy.var(seq_normal)\n",
        "std_dev = numpy.std(seq_normal)\n",
        "\n",
        "print(\"Min: \"+str(min))\n",
        "print(\"Max: \"+str(max))\n",
        "print(\"Sum: \"+str(sum))\n",
        "print(\"Avg: \"+str(avg))\n",
        "print(\"Range: \"+str(_range))\n",
        "print(\"Mode: \"+str(mode))\n",
        "print(\"Median: \"+str(med))\n",
        "print(\"Variance: \"+str(var))\n",
        "print(\"Standard Deviation: \"+str(std_dev))\n"
      ],
      "metadata": {
        "colab": {
          "base_uri": "https://localhost:8080/",
          "height": 669
        },
        "id": "vaV19P_kjrBk",
        "outputId": "ff4bec97-8e5a-4340-ef64-0c35f0945c8b"
      },
      "execution_count": null,
      "outputs": [
        {
          "output_type": "display_data",
          "data": {
            "text/plain": [
              "<Figure size 432x288 with 1 Axes>"
            ],
            "image/png": "[encoded data removed]"
          },
          "metadata": {
            "needs_background": "light"
          }
        },
        {
          "output_type": "display_data",
          "data": {
            "text/plain": [
              "<Figure size 432x288 with 1 Axes>"
            ],
            "image/png": "[encoded data removed]"
          },
          "metadata": {
            "needs_background": "light"
          }
        },
        {
          "output_type": "stream",
          "name": "stdout",
          "text": [
            "Min: -3.873448477187334\n",
            "Max: 4.1627351585793555\n",
            "Sum: 9.99329025468213\n",
            "Avg: 0.000999329025468213\n",
            "Range: 8.03618363576669\n",
            "Mode: 0.5289033249609929\n",
            "Median: 0.005386818508948656\n",
            "Variance: 1.0283977021317967\n",
            "Standard Deviation: 1.0140994537676256\n"
          ]
        }
      ]
    },
    {
      "cell_type": "markdown",
      "source": [
        "## Cauchy Distribution\n",
        "Also known as the Lorentz distribution, it is often used as an example of a 'pathological' distribution, since its mean and variance are undefined."
      ],
      "metadata": {
        "id": "qwzVlCquzwlj"
      }
    },
    {
      "cell_type": "code",
      "source": [
        "# Cauchy distribution\n",
        "from scipy import stats\n",
        "mean, var = stats.cauchy.stats(moments='mv')\n",
        "print(mean, var)"
      ],
      "metadata": {
        "colab": {
          "base_uri": "https://localhost:8080/"
        },
        "id": "yRfcoJCE0oQp",
        "outputId": "16c1f921-54c5-428b-9e17-5dfc6d437db2"
      },
      "execution_count": null,
      "outputs": [
        {
          "output_type": "stream",
          "name": "stdout",
          "text": [
            "nan nan\n"
          ]
        }
      ]
    },
    {
      "cell_type": "code",
      "source": [
        "# Sample from a gauchy distribution\n",
        "seq_cauchy = random.standard_cauchy(size=1000)\n",
        "plt.plot(seq_cauchy)\n",
        "plt.show()\n",
        "plt.hist(seq_cauchy, bins=50)\n",
        "plt.show()\n",
        "\n",
        "min = numpy.min(seq_cauchy)\n",
        "max = numpy.max(seq_cauchy)\n",
        "_range = max-min\n",
        "sum = numpy.sum(seq_cauchy)\n",
        "avg = numpy.mean(seq_cauchy)\n",
        "mode = stats.mode(seq_cauchy)[0]\n",
        "med = numpy.median(seq_cauchy)\n",
        "var = numpy.var(seq_cauchy)\n",
        "std_dev = numpy.std(seq_cauchy)\n",
        "\n",
        "print(\"Min: \"+str(min))\n",
        "print(\"Max: \"+str(max))\n",
        "print(\"Sum: \"+str(sum))\n",
        "print(\"Avg: \"+str(avg))\n",
        "print(\"Range: \"+str(_range))\n",
        "print(\"Mode: \"+str(mode))\n",
        "print(\"Median: \"+str(med))\n",
        "print(\"Variance: \"+str(var))\n",
        "print(\"Standard Deviation: \"+str(std_dev))"
      ],
      "metadata": {
        "colab": {
          "base_uri": "https://localhost:8080/",
          "height": 669
        },
        "id": "ToXy6NWF8NFZ",
        "outputId": "6e463e33-cb1a-4a8f-8b15-4299a352e803"
      },
      "execution_count": null,
      "outputs": [
        {
          "output_type": "display_data",
          "data": {
            "text/plain": [
              "<Figure size 432x288 with 1 Axes>"
            ],
            "image/png": "[encoded data removed]"
          },
          "metadata": {
            "needs_background": "light"
          }
        },
        {
          "output_type": "display_data",
          "data": {
            "text/plain": [
              "<Figure size 432x288 with 1 Axes>"
            ],
            "image/png": "[encoded data removed]"
          },
          "metadata": {
            "needs_background": "light"
          }
        },
        {
          "output_type": "stream",
          "name": "stdout",
          "text": [
            "Min: -130.63115521509843\n",
            "Max: 700.8616671648466\n",
            "Sum: 34.02420337576825\n",
            "Avg: 0.03402420337576825\n",
            "Range: 831.492822379945\n",
            "Mode: [-130.63115522]\n",
            "Median: -0.09923763808576534\n",
            "Variance: 589.2059665684402\n",
            "Standard Deviation: 24.273565180427045\n"
          ]
        }
      ]
    },
    {
      "cell_type": "markdown",
      "source": [
        "# Part 5 - Moving Average"
      ],
      "metadata": {
        "id": "qC4ZLERTTAJ2"
      }
    },
    {
      "cell_type": "code",
      "source": [
        "window_size = 7\n",
        "mov_avgs = []  \n",
        "#print(sequence)\n",
        "for i in range(1, len(sequence)+1):\n",
        "  pos2 = i\n",
        "  pos1 = i - window_size\n",
        "  if pos1 < 0:\n",
        "    pos1 = 0\n",
        "  window = sequence[pos1:pos2]\n",
        "  mov_avgs.append(numpy.mean(window))\n",
        "#print(mov_avgs) \n",
        "plt.bar(dates, height=sequence, color='grey', label='Values')\n",
        "plt.plot(dates, mov_avgs, label='Moving Average')\n",
        "plt.xticks(rotation=90)\n",
        "plt.xlabel('Dates')\n",
        "plt.ylabel('Values')\n",
        "plt.legend()\n",
        "plt.show()"
      ],
      "metadata": {
        "colab": {
          "base_uri": "https://localhost:8080/",
          "height": 327
        },
        "id": "7qEq9zfwTG_j",
        "outputId": "0a8b9ff6-c039-484e-ff35-8262267b146c"
      },
      "execution_count": null,
      "outputs": [
        {
          "output_type": "display_data",
          "data": {
            "text/plain": [
              "<Figure size 432x288 with 1 Axes>"
            ],
            "image/png": "[encoded data removed]"
          },
          "metadata": {
            "needs_background": "light"
          }
        }
      ]
    },
    {
      "cell_type": "markdown",
      "source": [
        "# Optional Exercises"
      ],
      "metadata": {
        "id": "jg22zXA_zalN"
      }
    },
    {
      "cell_type": "markdown",
      "source": [
        "## The value of Pi\n",
        "Considering a circumscribed square, its side ***l*** is equal to the circle's diameter ***(d = 2r)***, therefore: l=2r => r = l/2.\n",
        "If the square area = 36, l = 6, r = 3. If the circle area = 28.27 ..."
      ],
      "metadata": {
        "id": "2HWZM0JZz930"
      }
    },
    {
      "cell_type": "code",
      "source": [
        "area = 28.27433\n",
        "min=0\n",
        "max=100\n",
        "while True: \n",
        "  pi = random.uniform(min, max)\n",
        "  print(pi)\n",
        "  if pi*9 < area:\n",
        "    min = pi\n",
        "  if pi*9 > area:\n",
        "    max = pi\n",
        "  if abs(area - pi*9) < 0.0001:\n",
        "    break\n"
      ],
      "metadata": {
        "colab": {
          "base_uri": "https://localhost:8080/"
        },
        "id": "YAAgG_rU0Wnl",
        "outputId": "69232c5f-4d0b-4ff3-d679-af3790d95a5e"
      },
      "execution_count": null,
      "outputs": [
        {
          "output_type": "stream",
          "name": "stdout",
          "text": [
            "94.37209606842187\n",
            "21.523393532359943\n",
            "5.0015963962930305\n",
            "4.563244344384893\n",
            "0.4599231189913325\n",
            "4.1243477070923715\n",
            "3.92038580377247\n",
            "1.6279941570650627\n",
            "1.666959022630933\n",
            "2.133898454614079\n",
            "2.1788640929834644\n",
            "3.004368056582078\n",
            "3.0741117403852267\n",
            "3.335974588541837\n",
            "3.102181883563242\n",
            "3.2989006857588854\n",
            "3.2545612145649088\n",
            "3.111007775601833\n",
            "3.1772090709272165\n",
            "3.1274783998958795\n",
            "3.1464969771102984\n",
            "3.142809085806262\n",
            "3.1321140055300023\n",
            "3.135864930316418\n",
            "3.1383419397578547\n",
            "3.1422639338227\n",
            "3.1402874106691105\n",
            "3.142248859911136\n",
            "3.142165554602614\n",
            "3.14121199095687\n",
            "3.1417696622199025\n",
            "3.1412350319545794\n",
            "3.1416580281794144\n",
            "3.1415504707103135\n",
            "3.1416271681221897\n",
            "3.1416083816355678\n",
            "3.141586707262873\n"
          ]
        }
      ]
    }
  ]
}
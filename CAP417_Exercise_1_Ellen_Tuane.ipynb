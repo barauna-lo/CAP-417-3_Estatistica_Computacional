{
  "nbformat": 4,
  "nbformat_minor": 0,
  "metadata": {
    "colab": {
      "name": "CAP417_Exercise_1_Ellen_Tuane.ipynb",
      "provenance": [],
      "collapsed_sections": [
        "01aTQLOKHFQ3",
        "RCiy7UhCb0Qs",
        "sJx40ZwZgZM5",
        "4V7he3eznKT-",
        "OYDr9buM7YHh",
        "7o4SpDRL3JiQ",
        "pwdJfHjT7Cgd"
      ],
      "include_colab_link": true
    },
    "kernelspec": {
      "name": "python3",
      "display_name": "Python 3"
    },
    "language_info": {
      "name": "python"
    }
  },
  "cells": [
    {
      "cell_type": "markdown",
      "metadata": {
        "id": "view-in-github",
        "colab_type": "text"
      },
      "source": [
        "<a href=\"https://colab.research.google.com/github/barauna-lo/Computational_Statistics/blob/Hands_On_01/CAP417_Exercise_1_Ellen_Tuane.ipynb\" target=\"_parent\"><img src=\"https://colab.research.google.com/assets/colab-badge.svg\" alt=\"Open In Colab\"/></a>"
      ]
    },
    {
      "cell_type": "markdown",
      "source": [
        "# **CAP - 417 Ellen Tuane**"
      ],
      "metadata": {
        "id": "0k2LrxXNfwFz"
      }
    },
    {
      "cell_type": "markdown",
      "source": [
        "# 1 - Random numbers and Seed undestandings\n",
        "\n"
      ],
      "metadata": {
        "id": "qqfO32mvyKya"
      }
    },
    {
      "cell_type": "markdown",
      "source": [
        "# Scipy Library:\n",
        "\n",
        "\n",
        "*   normal / Gauss distribution\n"
      ],
      "metadata": {
        "id": "01aTQLOKHFQ3"
      }
    },
    {
      "cell_type": "code",
      "source": [
        "from scipy import stats\n",
        "import seaborn as sns\n",
        "import statistics\n",
        "import numpy as np\n",
        "import pandas as pd"
      ],
      "metadata": {
        "id": "pPfHVxqK4w6s"
      },
      "execution_count": null,
      "outputs": []
    },
    {
      "cell_type": "code",
      "execution_count": null,
      "metadata": {
        "id": "dOlkcLqxww4A"
      },
      "outputs": [],
      "source": [
        "dados = stats.norm.rvs(size = 1000, random_state = 1)\n",
        "dados2 = stats.norm.rvs(size = 1000, random_state = 40)"
      ]
    },
    {
      "cell_type": "code",
      "source": [
        "mode = stats.mode(dados)\n",
        "print('Stats.norm: ', '\\nShape:', dados.shape ,'\\nmean: ', statistics.mean(dados), '\\nmode: ', mode[0], '\\nmedian: ', statistics.median(dados), '\\nmax: ', max(dados), '\\nmix: ', min(dados), '\\nSum:', sum(dados), '\\nVariance:', statistics.variance(dados), '\\nStd:', statistics.stdev(dados))"
      ],
      "metadata": {
        "id": "m5S3S1Cj6QBR",
        "outputId": "849d8a17-4496-4018-9520-6c367cdc326e",
        "colab": {
          "base_uri": "https://localhost:8080/"
        }
      },
      "execution_count": null,
      "outputs": [
        {
          "output_type": "stream",
          "name": "stdout",
          "text": [
            "Stats.norm:  \n",
            "Shape: (1000,) \n",
            "mean:  0.038812476159601844 \n",
            "mode:  [-3.05376438] \n",
            "median:  0.04129258886921605 \n",
            "max:  3.9586027040379634 \n",
            "mix:  -3.053764380426305 \n",
            "Sum: 38.81247615960171 \n",
            "Variance: 0.963332443235324 \n",
            "Std: 0.9814950041825603\n"
          ]
        }
      ]
    },
    {
      "cell_type": "code",
      "source": [
        "sns.distplot(dados); sns.distplot(dados2);"
      ],
      "metadata": {
        "id": "LBadkIRG4-Kg",
        "outputId": "16596895-3a44-4d27-b869-40139a3b54a8",
        "colab": {
          "base_uri": "https://localhost:8080/",
          "height": 354
        }
      },
      "execution_count": null,
      "outputs": [
        {
          "output_type": "stream",
          "name": "stderr",
          "text": [
            "/usr/local/lib/python3.7/dist-packages/seaborn/distributions.py:2619: FutureWarning: `distplot` is a deprecated function and will be removed in a future version. Please adapt your code to use either `displot` (a figure-level function with similar flexibility) or `histplot` (an axes-level function for histograms).\n",
            "  warnings.warn(msg, FutureWarning)\n",
            "/usr/local/lib/python3.7/dist-packages/seaborn/distributions.py:2619: FutureWarning: `distplot` is a deprecated function and will be removed in a future version. Please adapt your code to use either `displot` (a figure-level function with similar flexibility) or `histplot` (an axes-level function for histograms).\n",
            "  warnings.warn(msg, FutureWarning)\n"
          ]
        },
        {
          "output_type": "display_data",
          "data": {
            "text/plain": [
              "<Figure size 432x288 with 1 Axes>"
            ],
            "image/png": "[encoded data removed]"
          },
          "metadata": {
            "needs_background": "light"
          }
        }
      ]
    },
    {
      "cell_type": "markdown",
      "source": [
        "# Ramdom Library:\n",
        "\n",
        "\n",
        "*  Int\n",
        "*  Gauss\n",
        "\n"
      ],
      "metadata": {
        "id": "RCiy7UhCb0Qs"
      }
    },
    {
      "cell_type": "code",
      "source": [
        "from random import seed\n",
        "from random import randint\n",
        "from random import gauss\n",
        "\n",
        "# generate random int point values // NO SEED\n",
        "\n",
        "dados_int_0 = []\n",
        "for _ in range(1000):\n",
        "\tdados_int_0.append(randint(0,1000))\n",
        "\n",
        "# seed random number generator\n",
        "seed(1)\n",
        "\n",
        "# generate random int point values\n",
        "dados_int = []\n",
        "for _ in range(1000):\n",
        "\tdados_int.append(randint(0,1000))\n",
        " \n",
        "# Reseed random number generator\n",
        "seed(3)\n",
        " \n",
        "dados_int_2 = []\n",
        "for _ in range(1000):\n",
        "\tdados_int_2.append(randint(0,1000))\n",
        " \n",
        "# Reseed random number generator\n",
        "seed(7)\n",
        " \n",
        "dados_int_3 = []\n",
        "for _ in range(1000):\n",
        "\tdados_int_3.append(randint(0,1000))\n",
        " \n",
        "# Reseed random number generator\n",
        "seed(1)\n",
        "\n",
        "# generate random Gaussian point values\n",
        "dados_gauss = []\n",
        "for _ in range(1000):\n",
        "\tdados_gauss.append(gauss(0,100))\n",
        " \n",
        "# Reseed random number generator\n",
        "seed(4)\n",
        "\n",
        "# generate random Gaussian point values\n",
        "dados_gauss_2 = []\n",
        "for _ in range(1000):\n",
        "\tdados_gauss_2.append(gauss(0,100))\n",
        " \n",
        "# Reseed random number generator\n",
        "seed(7)\n",
        "\n",
        "# generate random Gaussian point values\n",
        "dados_gauss_3 = []\n",
        "for _ in range(1000):\n",
        "\tdados_gauss_3.append(gauss(0,100))"
      ],
      "metadata": {
        "id": "RWjkIZlF49QF"
      },
      "execution_count": null,
      "outputs": []
    },
    {
      "cell_type": "markdown",
      "source": [
        "Int values"
      ],
      "metadata": {
        "id": "VHWVERayYobV"
      }
    },
    {
      "cell_type": "code",
      "source": [
        "dados_int_0 = np.array(dados_int_0)\n",
        "#Descriptive Statistic\n",
        "gauss_int_0 = stats.mode(dados_int)\n",
        "print('Random no Seed  ', '\\nShape:', dados_int_0.shape, '\\nmean: ', statistics.mean(dados_int_0), '\\nmode: ', gauss_int_0[0], '\\nmedian: ', statistics.median(dados_int_0), '\\nmax: ', max(dados_int_0), '\\nmix: ', min(dados_int_0), '\\nSum:', sum(dados_int_0), '\\nVariance:', statistics.variance(dados_int_0), '\\nStd:', statistics.stdev(dados_int_0))"
      ],
      "metadata": {
        "colab": {
          "base_uri": "https://localhost:8080/"
        },
        "id": "vtWF7eMraRXn",
        "outputId": "29db163b-a762-4714-ea96-8231bb5332b2"
      },
      "execution_count": null,
      "outputs": [
        {
          "output_type": "stream",
          "name": "stdout",
          "text": [
            "Random no Seed   \n",
            "Shape: (1000,) \n",
            "mean:  496 \n",
            "mode:  [261] \n",
            "median:  494.5 \n",
            "max:  1000 \n",
            "mix:  0 \n",
            "Sum: 496621 \n",
            "Variance: 79741 \n",
            "Std: 282.38448965904627\n"
          ]
        }
      ]
    },
    {
      "cell_type": "code",
      "source": [
        "dados_int = np.array(dados_int)\n",
        "#Descriptive Statistic\n",
        "gauss_int = stats.mode(dados_int)\n",
        "print('Random Seed 1 ', '\\nShape:', dados_int.shape, '\\nmean: ', statistics.mean(dados_int), '\\nmode: ', gauss_int[0], '\\nmedian: ', statistics.median(dados_int), '\\nmax: ', max(dados_int), '\\nmix: ', min(dados_int), '\\nSum:', sum(dados_int), '\\nVariance:', statistics.variance(dados_int), '\\nStd:', statistics.stdev(dados_int))"
      ],
      "metadata": {
        "id": "SAgOhK8vZGLL",
        "outputId": "9fb927f1-5f11-4a1a-83c7-ada1448dd6ce",
        "colab": {
          "base_uri": "https://localhost:8080/"
        }
      },
      "execution_count": null,
      "outputs": [
        {
          "output_type": "stream",
          "name": "stdout",
          "text": [
            "Random Seed 1  \n",
            "Shape: (1000,) \n",
            "mean:  509 \n",
            "mode:  [261] \n",
            "median:  516.0 \n",
            "max:  1000 \n",
            "mix:  0 \n",
            "Sum: 509954 \n",
            "Variance: 86484 \n",
            "Std: 294.0816213230606\n"
          ]
        }
      ]
    },
    {
      "cell_type": "code",
      "source": [
        "dados_int_2 = np.array(dados_int_2)\n",
        "#Descriptive Statistic\n",
        "gauss_int_2 = stats.mode(dados_int_2)\n",
        "print('Random Seed 4 ', '\\nShape:', dados_int_2.shape, '\\nmean: ', statistics.mean(dados_int_2), '\\nmode: ', gauss_int_2[0], '\\nmedian: ', statistics.median(dados_int_2), '\\nmax: ', max(dados_int_2), '\\nmix: ', min(dados_int_2), '\\nSum:', sum(dados_int_2), '\\nVariance:', statistics.variance(dados_int_2), '\\nStd:', statistics.stdev(dados_int_2))"
      ],
      "metadata": {
        "id": "TtAN9makYswb",
        "outputId": "887da779-ee25-426e-bc56-bf6dea8f3ceb",
        "colab": {
          "base_uri": "https://localhost:8080/"
        }
      },
      "execution_count": null,
      "outputs": [
        {
          "output_type": "stream",
          "name": "stdout",
          "text": [
            "Random Seed 4  \n",
            "Shape: (1000,) \n",
            "mean:  508 \n",
            "mode:  [277] \n",
            "median:  522.5 \n",
            "max:  998 \n",
            "mix:  1 \n",
            "Sum: 508286 \n",
            "Variance: 82517 \n",
            "Std: 287.2577240040727\n"
          ]
        }
      ]
    },
    {
      "cell_type": "code",
      "source": [
        "dados_int_3 = np.array(dados_int_3)\n",
        "#Descriptive Statistic\n",
        "gauss_int_3 = stats.mode(dados_int_3)\n",
        "print('Random Seed 7 ', '\\nShape:', dados_int_3.shape, '\\nmean: ', statistics.mean(dados_int_3), '\\nmode: ', gauss_int_3[0], '\\nmedian: ', statistics.median(dados_int_3), '\\nmax: ', max(dados_int_3), '\\nmix: ', min(dados_int_3), '\\nSum:', sum(dados_int_3), '\\nVariance:', statistics.variance(dados_int_3), '\\nStd:', statistics.stdev(dados_int_3))"
      ],
      "metadata": {
        "id": "D6fEEUf3Zdwl",
        "outputId": "6f25f4f3-e84f-4710-c162-f247301b07dc",
        "colab": {
          "base_uri": "https://localhost:8080/"
        }
      },
      "execution_count": null,
      "outputs": [
        {
          "output_type": "stream",
          "name": "stdout",
          "text": [
            "Random Seed 7  \n",
            "Shape: (1000,) \n",
            "mean:  485 \n",
            "mode:  [658] \n",
            "median:  490.0 \n",
            "max:  999 \n",
            "mix:  0 \n",
            "Sum: 485863 \n",
            "Variance: 83968 \n",
            "Std: 289.77232442039735\n"
          ]
        }
      ]
    },
    {
      "cell_type": "markdown",
      "source": [
        "Distribution: uniform"
      ],
      "metadata": {
        "id": "Yuvn0IZpbMiN"
      }
    },
    {
      "cell_type": "code",
      "source": [
        "sns.distplot(dados_int); sns.distplot(dados_int_2); sns.distplot(dados_int_3);"
      ],
      "metadata": {
        "id": "s12Q_9Usau5X",
        "outputId": "4a1d26dd-ff73-4b6c-ffca-aea6ede4e849",
        "colab": {
          "base_uri": "https://localhost:8080/",
          "height": 389
        }
      },
      "execution_count": null,
      "outputs": [
        {
          "output_type": "stream",
          "name": "stderr",
          "text": [
            "/usr/local/lib/python3.7/dist-packages/seaborn/distributions.py:2619: FutureWarning: `distplot` is a deprecated function and will be removed in a future version. Please adapt your code to use either `displot` (a figure-level function with similar flexibility) or `histplot` (an axes-level function for histograms).\n",
            "  warnings.warn(msg, FutureWarning)\n",
            "/usr/local/lib/python3.7/dist-packages/seaborn/distributions.py:2619: FutureWarning: `distplot` is a deprecated function and will be removed in a future version. Please adapt your code to use either `displot` (a figure-level function with similar flexibility) or `histplot` (an axes-level function for histograms).\n",
            "  warnings.warn(msg, FutureWarning)\n",
            "/usr/local/lib/python3.7/dist-packages/seaborn/distributions.py:2619: FutureWarning: `distplot` is a deprecated function and will be removed in a future version. Please adapt your code to use either `displot` (a figure-level function with similar flexibility) or `histplot` (an axes-level function for histograms).\n",
            "  warnings.warn(msg, FutureWarning)\n"
          ]
        },
        {
          "output_type": "display_data",
          "data": {
            "text/plain": [
              "<Figure size 432x288 with 1 Axes>"
            ],
            "image/png": "[encoded data removed]"
          },
          "metadata": {
            "needs_background": "light"
          }
        }
      ]
    },
    {
      "cell_type": "markdown",
      "source": [
        "Gauss Values"
      ],
      "metadata": {
        "id": "ovIlj3pcYjsq"
      }
    },
    {
      "cell_type": "code",
      "source": [
        "dados_gauss = np.array(dados_gauss)\n",
        "#Descriptive Statistic\n",
        "gauss_mode = stats.mode(dados_gauss)\n",
        "print('Random Seed 1 ', '\\nShape:', dados_gauss.shape, '\\nmean: ', statistics.mean(dados_gauss), '\\nmode: ', gauss_mode[0], '\\nmedian: ', statistics.median(dados_gauss), '\\nmax: ', max(dados_gauss), '\\nmix: ', min(dados_gauss), '\\nSum:', sum(dados_gauss), '\\nVariance:', statistics.variance(dados_gauss), '\\nStd:', statistics.stdev(dados_gauss))"
      ],
      "metadata": {
        "id": "o_VKYk_oThGo",
        "outputId": "f8be3ec6-a40a-4a18-d18b-89981425031f",
        "colab": {
          "base_uri": "https://localhost:8080/"
        }
      },
      "execution_count": null,
      "outputs": [
        {
          "output_type": "stream",
          "name": "stdout",
          "text": [
            "Random Seed 1  \n",
            "Shape: (1000,) \n",
            "mean:  -1.3222050876781846 \n",
            "mode:  [-296.12142705] \n",
            "median:  -1.0933588391872995 \n",
            "max:  273.7259509189501 \n",
            "mix:  -296.1214270519158 \n",
            "Sum: -1322.2050876781861 \n",
            "Variance: 10073.83060288612 \n",
            "Std: 100.36847414844026\n"
          ]
        }
      ]
    },
    {
      "cell_type": "code",
      "source": [
        "dados_gauss_2 = np.array(dados_gauss_2)\n",
        "#Descriptive Statistic\n",
        "gauss_mode_2 = stats.mode(dados_gauss_2)\n",
        "print('Random Seed 4 ', '\\nShape:', dados_gauss_2.shape, '\\nmean: ', statistics.mean(dados_gauss_2), '\\nmode: ', gauss_mode_2[0], '\\nmedian: ', statistics.median(dados_gauss_2), '\\nmax: ', max(dados_gauss_2), '\\nmix: ', min(dados_gauss_2), '\\nSum:', sum(dados_gauss_2), '\\nVariance:', statistics.variance(dados_gauss_2), '\\nStd:', statistics.stdev(dados_gauss_2))"
      ],
      "metadata": {
        "id": "2NDjvz99WAnN",
        "outputId": "80f7b952-ccbb-48f7-8ed6-7a474654ef1b",
        "colab": {
          "base_uri": "https://localhost:8080/"
        }
      },
      "execution_count": null,
      "outputs": [
        {
          "output_type": "stream",
          "name": "stdout",
          "text": [
            "Random Seed 4  \n",
            "Shape: (1000,) \n",
            "mean:  4.53668412427439 \n",
            "mode:  [-262.3966377] \n",
            "median:  3.273206796639668 \n",
            "max:  347.776123546875 \n",
            "mix:  -262.3966376992027 \n",
            "Sum: 4536.68412427438 \n",
            "Variance: 10128.766571074157 \n",
            "Std: 100.64177348931285\n"
          ]
        }
      ]
    },
    {
      "cell_type": "code",
      "source": [
        "dados_gauss_3 = np.array(dados_gauss_3)\n",
        "#Descriptive Statistic\n",
        "gauss_mode_3 = stats.mode(dados_gauss_3)\n",
        "print('Random Seed 7 ', '\\nShape:', dados_gauss_3.shape, '\\nmean: ', statistics.mean(dados_gauss_3), '\\nmode: ', gauss_mode_3[0], '\\nmedian: ', statistics.median(dados_gauss_3), '\\nmax: ', max(dados_gauss_3), '\\nmix: ', min(dados_gauss_3), '\\nSum:', sum(dados_gauss_3), '\\nVariance:', statistics.variance(dados_gauss_3), '\\nStd:', statistics.stdev(dados_gauss_3))"
      ],
      "metadata": {
        "id": "hYCGtif5YHkI",
        "outputId": "35b6fcde-8ed8-4ca3-b45a-d56067eeeea5",
        "colab": {
          "base_uri": "https://localhost:8080/"
        }
      },
      "execution_count": null,
      "outputs": [
        {
          "output_type": "stream",
          "name": "stdout",
          "text": [
            "Random Seed 7  \n",
            "Shape: (1000,) \n",
            "mean:  2.7069932212351406 \n",
            "mode:  [-344.47051053] \n",
            "median:  3.7806098070087737 \n",
            "max:  279.4616835097843 \n",
            "mix:  -344.4705105326818 \n",
            "Sum: 2706.993221235139 \n",
            "Variance: 9885.070683831525 \n",
            "Std: 99.42369276903531\n"
          ]
        }
      ]
    },
    {
      "cell_type": "markdown",
      "source": [
        "Normal Distribution"
      ],
      "metadata": {
        "id": "Hx-X9lwGcTN4"
      }
    },
    {
      "cell_type": "code",
      "source": [
        "sns.distplot(dados_gauss); sns.distplot(dados_gauss_2); sns.distplot(dados_gauss_3);"
      ],
      "metadata": {
        "id": "RO0LZ14uR1fk",
        "outputId": "300a3cb8-2709-4323-d7e4-d91d73ba37f4",
        "colab": {
          "base_uri": "https://localhost:8080/",
          "height": 389
        }
      },
      "execution_count": null,
      "outputs": [
        {
          "output_type": "stream",
          "name": "stderr",
          "text": [
            "/usr/local/lib/python3.7/dist-packages/seaborn/distributions.py:2619: FutureWarning: `distplot` is a deprecated function and will be removed in a future version. Please adapt your code to use either `displot` (a figure-level function with similar flexibility) or `histplot` (an axes-level function for histograms).\n",
            "  warnings.warn(msg, FutureWarning)\n",
            "/usr/local/lib/python3.7/dist-packages/seaborn/distributions.py:2619: FutureWarning: `distplot` is a deprecated function and will be removed in a future version. Please adapt your code to use either `displot` (a figure-level function with similar flexibility) or `histplot` (an axes-level function for histograms).\n",
            "  warnings.warn(msg, FutureWarning)\n",
            "/usr/local/lib/python3.7/dist-packages/seaborn/distributions.py:2619: FutureWarning: `distplot` is a deprecated function and will be removed in a future version. Please adapt your code to use either `displot` (a figure-level function with similar flexibility) or `histplot` (an axes-level function for histograms).\n",
            "  warnings.warn(msg, FutureWarning)\n"
          ]
        },
        {
          "output_type": "display_data",
          "data": {
            "text/plain": [
              "<Figure size 432x288 with 1 Axes>"
            ],
            "image/png": "[encoded data removed]"
          },
          "metadata": {
            "needs_background": "light"
          }
        }
      ]
    },
    {
      "cell_type": "markdown",
      "source": [
        "# 2 - Discriptive Statistic"
      ],
      "metadata": {
        "id": "M-VL_NAEfeJI"
      }
    },
    {
      "cell_type": "markdown",
      "source": [
        "# 5 numbers sequency"
      ],
      "metadata": {
        "id": "sJx40ZwZgZM5"
      }
    },
    {
      "cell_type": "code",
      "source": [
        "# generate random integer values\n",
        "from numpy.random import seed\n",
        "from numpy.random import randint\n",
        "\n",
        "# seed random number generator\n",
        "seed(1)\n",
        "\n",
        "# generate some integers\n",
        "five_numbers = randint(0, 100, 5)"
      ],
      "metadata": {
        "id": "jl3t-xt7gY0p"
      },
      "execution_count": null,
      "outputs": []
    },
    {
      "cell_type": "code",
      "source": [
        "five_numbers_mode = stats.mode(five_numbers)\n",
        "print('5 numbers sequency descriptive statistic: ', '\\nShape:', five_numbers.shape ,'\\nmean: ', statistics.mean(five_numbers), '\\nmode: ', five_numbers_mode[0], '\\nmedian: ', statistics.median(five_numbers), '\\nmax: ', max(five_numbers), '\\nmix: ', min(five_numbers), '\\nSum:', sum(five_numbers), '\\nVariance:', statistics.variance(five_numbers), '\\nStd:', statistics.stdev(five_numbers))"
      ],
      "metadata": {
        "id": "8h03Y9-5cxIs",
        "outputId": "13d92e01-d9c8-48a5-fa42-997998e9787d",
        "colab": {
          "base_uri": "https://localhost:8080/"
        }
      },
      "execution_count": null,
      "outputs": [
        {
          "output_type": "stream",
          "name": "stdout",
          "text": [
            "5 numbers sequency descriptive statistic:  \n",
            "Shape: (5,) \n",
            "mean:  41 \n",
            "mode:  [9] \n",
            "median:  37 \n",
            "max:  75 \n",
            "mix:  9 \n",
            "Sum: 205 \n",
            "Variance: 999 \n",
            "Std: 31.606961258558215\n"
          ]
        }
      ]
    },
    {
      "cell_type": "code",
      "source": [
        "np.median(five_numbers), np.percentile(five_numbers, 50)"
      ],
      "metadata": {
        "id": "C03Bbwg_mBmS",
        "outputId": "e61be4bf-abc5-4c77-a9e3-b3283b638a68",
        "colab": {
          "base_uri": "https://localhost:8080/"
        }
      },
      "execution_count": null,
      "outputs": [
        {
          "output_type": "execute_result",
          "data": {
            "text/plain": [
              "(37.0, 37.0)"
            ]
          },
          "metadata": {},
          "execution_count": 17
        }
      ]
    },
    {
      "cell_type": "code",
      "source": [
        "np.percentile(five_numbers, 5), np.percentile(five_numbers, 10)"
      ],
      "metadata": {
        "id": "rcrRodLbkUa1",
        "outputId": "3b312000-e1b8-48ab-e201-4bec5a10ad2c",
        "colab": {
          "base_uri": "https://localhost:8080/"
        }
      },
      "execution_count": null,
      "outputs": [
        {
          "output_type": "execute_result",
          "data": {
            "text/plain": [
              "(9.6, 10.2)"
            ]
          },
          "metadata": {},
          "execution_count": 18
        }
      ]
    },
    {
      "cell_type": "code",
      "source": [
        "sns.distplot(five_numbers, bins=1); "
      ],
      "metadata": {
        "id": "PMSIuNpInVLr",
        "outputId": "7d123abe-a5d1-442e-b914-9bcc429e52a5",
        "colab": {
          "base_uri": "https://localhost:8080/"
        }
      },
      "execution_count": null,
      "outputs": [
        {
          "output_type": "stream",
          "name": "stderr",
          "text": [
            "/usr/local/lib/python3.7/dist-packages/seaborn/distributions.py:2619: FutureWarning: `distplot` is a deprecated function and will be removed in a future version. Please adapt your code to use either `displot` (a figure-level function with similar flexibility) or `histplot` (an axes-level function for histograms).\n",
            "  warnings.warn(msg, FutureWarning)\n"
          ]
        },
        {
          "output_type": "display_data",
          "data": {
            "text/plain": [
              "<Figure size 432x288 with 1 Axes>"
            ],
            "image/png": "[encoded data removed]"
          },
          "metadata": {
            "needs_background": "light"
          }
        }
      ]
    },
    {
      "cell_type": "markdown",
      "source": [
        "# 100 numbers Sequency"
      ],
      "metadata": {
        "id": "4V7he3eznKT-"
      }
    },
    {
      "cell_type": "code",
      "source": [
        "ahundred_numbers = randint(0, 100, 100)"
      ],
      "metadata": {
        "id": "pmWWpZpbnJYR"
      },
      "execution_count": null,
      "outputs": []
    },
    {
      "cell_type": "code",
      "source": [
        "ahundred_mode = stats.mode(ahundred_numbers)\n",
        "print('100 numbers sequency descriptive statistic: ', '\\nShape:', ahundred_numbers.shape ,'\\nmean: ', statistics.mean(ahundred_numbers), '\\nmode: ', ahundred_mode[0], '\\nmedian: ', statistics.median(ahundred_numbers), '\\nmax: ', max(ahundred_numbers), '\\nmix: ', min(ahundred_numbers), '\\nSum:', sum(ahundred_numbers), '\\nVariance:', statistics.variance(ahundred_numbers), '\\nStd:', statistics.stdev(ahundred_numbers))"
      ],
      "metadata": {
        "id": "0Sq1FSLlfdFd",
        "outputId": "68b91286-bf3b-4a7d-aa9a-28e549bb3573",
        "colab": {
          "base_uri": "https://localhost:8080/"
        }
      },
      "execution_count": null,
      "outputs": [
        {
          "output_type": "stream",
          "name": "stdout",
          "text": [
            "100 numbers sequency descriptive statistic:  \n",
            "Shape: (100,) \n",
            "mean:  44 \n",
            "mode:  [25] \n",
            "median:  44.5 \n",
            "max:  98 \n",
            "mix:  0 \n",
            "Sum: 4483 \n",
            "Variance: 891 \n",
            "Std: 29.8496231131986\n"
          ]
        }
      ]
    },
    {
      "cell_type": "code",
      "source": [
        "np.median(ahundred_numbers), np.percentile(ahundred_numbers, 50)"
      ],
      "metadata": {
        "id": "O76M6F9emSfg",
        "outputId": "cfb56c91-ac28-4d7c-9ce3-c5c4168b59d7",
        "colab": {
          "base_uri": "https://localhost:8080/"
        }
      },
      "execution_count": null,
      "outputs": [
        {
          "output_type": "execute_result",
          "data": {
            "text/plain": [
              "(44.5, 44.5)"
            ]
          },
          "metadata": {},
          "execution_count": 22
        }
      ]
    },
    {
      "cell_type": "code",
      "source": [
        "np.percentile(ahundred_numbers, 5), np.percentile(ahundred_numbers, 10)"
      ],
      "metadata": {
        "id": "J8wAKPVFmXWk",
        "outputId": "86f44e7a-b4cb-4081-b3d1-ebb69c1ae4c3",
        "colab": {
          "base_uri": "https://localhost:8080/"
        }
      },
      "execution_count": null,
      "outputs": [
        {
          "output_type": "execute_result",
          "data": {
            "text/plain": [
              "(3.0, 6.9)"
            ]
          },
          "metadata": {},
          "execution_count": 23
        }
      ]
    },
    {
      "cell_type": "code",
      "source": [
        "sns.distplot(ahundred_numbers, bins=1);"
      ],
      "metadata": {
        "id": "2rAJC6jhi9Yg",
        "outputId": "761fde53-6f34-49bf-8533-e1424da21015",
        "colab": {
          "base_uri": "https://localhost:8080/"
        }
      },
      "execution_count": null,
      "outputs": [
        {
          "output_type": "stream",
          "name": "stderr",
          "text": [
            "/usr/local/lib/python3.7/dist-packages/seaborn/distributions.py:2619: FutureWarning: `distplot` is a deprecated function and will be removed in a future version. Please adapt your code to use either `displot` (a figure-level function with similar flexibility) or `histplot` (an axes-level function for histograms).\n",
            "  warnings.warn(msg, FutureWarning)\n"
          ]
        },
        {
          "output_type": "display_data",
          "data": {
            "text/plain": [
              "<Figure size 432x288 with 1 Axes>"
            ],
            "image/png": "[encoded data removed]"
          },
          "metadata": {
            "needs_background": "light"
          }
        }
      ]
    },
    {
      "cell_type": "markdown",
      "source": [
        "# 3 - Visualization"
      ],
      "metadata": {
        "id": "Lo_3Ia-bnm45"
      }
    },
    {
      "cell_type": "markdown",
      "source": [
        "# Bars"
      ],
      "metadata": {
        "id": "OYDr9buM7YHh"
      }
    },
    {
      "cell_type": "code",
      "source": [
        "# generate random integer values\n",
        "from numpy.random import seed\n",
        "from numpy.random import randint\n",
        "\n",
        "# seed random number generator\n",
        "seed(1)\n",
        "\n",
        "# generate some integers\n",
        "ahundred_one = randint(0, 100, 100)\n",
        "\n",
        "ahundred_two = []\n",
        "for _ in range(100):\n",
        "\tahundred_two.append(randint(0,100))"
      ],
      "metadata": {
        "id": "3KTki5gLpjEu"
      },
      "execution_count": null,
      "outputs": []
    },
    {
      "cell_type": "code",
      "source": [
        "sns.displot(ahundred_one, kde=True)"
      ],
      "metadata": {
        "id": "YHtwhaA8nmHm",
        "outputId": "babda01b-7836-40d4-8a7f-4b5a1df9af8a",
        "colab": {
          "base_uri": "https://localhost:8080/"
        }
      },
      "execution_count": null,
      "outputs": [
        {
          "output_type": "execute_result",
          "data": {
            "text/plain": [
              "<seaborn.axisgrid.FacetGrid at 0x7f0eb4dcaed0>"
            ]
          },
          "metadata": {},
          "execution_count": 26
        },
        {
          "output_type": "display_data",
          "data": {
            "text/plain": [
              "<Figure size 360x360 with 1 Axes>"
            ],
            "image/png": "[encoded data removed]"
          },
          "metadata": {
            "needs_background": "light"
          }
        }
      ]
    },
    {
      "cell_type": "code",
      "source": [
        "sns.displot(ahundred_two);"
      ],
      "metadata": {
        "id": "XR0vqT8eq8LT",
        "outputId": "ba6c4e01-7f51-4915-9cbc-d057c85c3963",
        "colab": {
          "base_uri": "https://localhost:8080/"
        }
      },
      "execution_count": null,
      "outputs": [
        {
          "output_type": "display_data",
          "data": {
            "text/plain": [
              "<Figure size 360x360 with 1 Axes>"
            ],
            "image/png": "[encoded data removed]"
          },
          "metadata": {
            "needs_background": "light"
          }
        }
      ]
    },
    {
      "cell_type": "markdown",
      "source": [
        "# Box Plot"
      ],
      "metadata": {
        "id": "7o4SpDRL3JiQ"
      }
    },
    {
      "cell_type": "code",
      "source": [
        "sns.boxplot(ahundred_one)"
      ],
      "metadata": {
        "id": "TYwYuoZGpbDH",
        "outputId": "3141eed6-037a-49f9-ef38-e8fff2cdb228",
        "colab": {
          "base_uri": "https://localhost:8080/"
        }
      },
      "execution_count": null,
      "outputs": [
        {
          "output_type": "stream",
          "name": "stderr",
          "text": [
            "/usr/local/lib/python3.7/dist-packages/seaborn/_decorators.py:43: FutureWarning: Pass the following variable as a keyword arg: x. From version 0.12, the only valid positional argument will be `data`, and passing other arguments without an explicit keyword will result in an error or misinterpretation.\n",
            "  FutureWarning\n"
          ]
        },
        {
          "output_type": "execute_result",
          "data": {
            "text/plain": [
              "<matplotlib.axes._subplots.AxesSubplot at 0x7f0eb23b8b90>"
            ]
          },
          "metadata": {},
          "execution_count": 28
        },
        {
          "output_type": "display_data",
          "data": {
            "text/plain": [
              "<Figure size 432x288 with 1 Axes>"
            ],
            "image/png": "[encoded data removed]"
          },
          "metadata": {
            "needs_background": "light"
          }
        }
      ]
    },
    {
      "cell_type": "code",
      "source": [
        "print('\\nmix: ', min(ahundred_one), '\\nFirst quanlite 25%: ', np.quantile(ahundred_one, 0.25), '\\nmedian: ', statistics.median(ahundred_one), '\\nThird quanlite 75%: ', np.quantile(ahundred_one, 0.75), '\\nmax: ', max(ahundred_one))"
      ],
      "metadata": {
        "id": "0RNbP7S4tQJO",
        "outputId": "9c861c0b-00d6-4252-b3aa-aea0fa85073c",
        "colab": {
          "base_uri": "https://localhost:8080/"
        }
      },
      "execution_count": null,
      "outputs": [
        {
          "output_type": "stream",
          "name": "stdout",
          "text": [
            "\n",
            "mix:  0 \n",
            "First quanlite 25%:  19.5 \n",
            "median:  42.0 \n",
            "Third quanlite 75%:  71.0 \n",
            "max:  98\n"
          ]
        }
      ]
    },
    {
      "cell_type": "code",
      "source": [
        "sns.boxplot(ahundred_two)"
      ],
      "metadata": {
        "id": "HNsALJlepgTE",
        "outputId": "51eeab35-9609-4b10-93b1-c8a4b3530200",
        "colab": {
          "base_uri": "https://localhost:8080/"
        }
      },
      "execution_count": null,
      "outputs": [
        {
          "output_type": "stream",
          "name": "stderr",
          "text": [
            "/usr/local/lib/python3.7/dist-packages/seaborn/_decorators.py:43: FutureWarning: Pass the following variable as a keyword arg: x. From version 0.12, the only valid positional argument will be `data`, and passing other arguments without an explicit keyword will result in an error or misinterpretation.\n",
            "  FutureWarning\n"
          ]
        },
        {
          "output_type": "execute_result",
          "data": {
            "text/plain": [
              "<matplotlib.axes._subplots.AxesSubplot at 0x7f0eb2328210>"
            ]
          },
          "metadata": {},
          "execution_count": 30
        },
        {
          "output_type": "display_data",
          "data": {
            "text/plain": [
              "<Figure size 432x288 with 1 Axes>"
            ],
            "image/png": "[encoded data removed]"
          },
          "metadata": {
            "needs_background": "light"
          }
        }
      ]
    },
    {
      "cell_type": "code",
      "source": [
        "print('\\nmix: ', min(ahundred_two), '\\nFirst quanlite 25%: ', np.quantile(ahundred_two, 0.25), '\\nmedian: ', statistics.median(ahundred_two), '\\nThird quanlite 75%: ', np.quantile(ahundred_two, 0.75), '\\nmax: ', max(ahundred_two))"
      ],
      "metadata": {
        "id": "sbDmOQTivxaY",
        "outputId": "d1dfcc2e-ded9-4026-e0e0-b8cb1e034f02",
        "colab": {
          "base_uri": "https://localhost:8080/"
        }
      },
      "execution_count": null,
      "outputs": [
        {
          "output_type": "stream",
          "name": "stdout",
          "text": [
            "\n",
            "mix:  0 \n",
            "First quanlite 25%:  21.0 \n",
            "median:  54.0 \n",
            "Third quanlite 75%:  77.0 \n",
            "max:  98\n"
          ]
        }
      ]
    },
    {
      "cell_type": "markdown",
      "source": [
        "# Rolling Mean"
      ],
      "metadata": {
        "id": "pwdJfHjT7Cgd"
      }
    },
    {
      "cell_type": "code",
      "source": [
        "df = pd.DataFrame(ahundred_one, columns = ['Random_data'])\n",
        "df"
      ],
      "metadata": {
        "id": "Ur2ESXQQ3TQN",
        "outputId": "37006d11-eaf7-460c-f349-ad5b61aded61",
        "colab": {
          "base_uri": "https://localhost:8080/"
        }
      },
      "execution_count": null,
      "outputs": [
        {
          "output_type": "execute_result",
          "data": {
            "text/plain": [
              "    Random_data\n",
              "0            37\n",
              "1            12\n",
              "2            72\n",
              "3             9\n",
              "4            75\n",
              "..          ...\n",
              "95           23\n",
              "96           55\n",
              "97           65\n",
              "98           77\n",
              "99            3\n",
              "\n",
              "[100 rows x 1 columns]"
            ],
            "text/html": [
              "\n",
              "  <div id=\"df-572bc45c-f528-48ee-b596-1595629d3384\">\n",
              "    <div class=\"colab-df-container\">\n",
              "      <div>\n",
              "<style scoped>\n",
              "    .dataframe tbody tr th:only-of-type {\n",
              "        vertical-align: middle;\n",
              "    }\n",
              "\n",
              "    .dataframe tbody tr th {\n",
              "        vertical-align: top;\n",
              "    }\n",
              "\n",
              "    .dataframe thead th {\n",
              "        text-align: right;\n",
              "    }\n",
              "</style>\n",
              "<table border=\"1\" class=\"dataframe\">\n",
              "  <thead>\n",
              "    <tr style=\"text-align: right;\">\n",
              "      <th></th>\n",
              "      <th>Random_data</th>\n",
              "    </tr>\n",
              "  </thead>\n",
              "  <tbody>\n",
              "    <tr>\n",
              "      <th>0</th>\n",
              "      <td>37</td>\n",
              "    </tr>\n",
              "    <tr>\n",
              "      <th>1</th>\n",
              "      <td>12</td>\n",
              "    </tr>\n",
              "    <tr>\n",
              "      <th>2</th>\n",
              "      <td>72</td>\n",
              "    </tr>\n",
              "    <tr>\n",
              "      <th>3</th>\n",
              "      <td>9</td>\n",
              "    </tr>\n",
              "    <tr>\n",
              "      <th>4</th>\n",
              "      <td>75</td>\n",
              "    </tr>\n",
              "    <tr>\n",
              "      <th>...</th>\n",
              "      <td>...</td>\n",
              "    </tr>\n",
              "    <tr>\n",
              "      <th>95</th>\n",
              "      <td>23</td>\n",
              "    </tr>\n",
              "    <tr>\n",
              "      <th>96</th>\n",
              "      <td>55</td>\n",
              "    </tr>\n",
              "    <tr>\n",
              "      <th>97</th>\n",
              "      <td>65</td>\n",
              "    </tr>\n",
              "    <tr>\n",
              "      <th>98</th>\n",
              "      <td>77</td>\n",
              "    </tr>\n",
              "    <tr>\n",
              "      <th>99</th>\n",
              "      <td>3</td>\n",
              "    </tr>\n",
              "  </tbody>\n",
              "</table>\n",
              "<p>100 rows × 1 columns</p>\n",
              "</div>\n",
              "      <button class=\"colab-df-convert\" onclick=\"convertToInteractive('df-572bc45c-f528-48ee-b596-1595629d3384')\"\n",
              "              title=\"Convert this dataframe to an interactive table.\"\n",
              "              style=\"display:none;\">\n",
              "        \n",
              "  <svg xmlns=\"http://www.w3.org/2000/svg\" height=\"24px\"viewBox=\"0 0 24 24\"\n",
              "       width=\"24px\">\n",
              "    <path d=\"M0 0h24v24H0V0z\" fill=\"none\"/>\n",
              "    <path d=\"M18.56 5.44l.94 2.06.94-2.06 2.06-.94-2.06-.94-.94-2.06-.94 2.06-2.06.94zm-11 1L8.5 8.5l.94-2.06 2.06-.94-2.06-.94L8.5 2.5l-.94 2.06-2.06.94zm10 10l.94 2.06.94-2.06 2.06-.94-2.06-.94-.94-2.06-.94 2.06-2.06.94z\"/><path d=\"M17.41 7.96l-1.37-1.37c-.4-.4-.92-.59-1.43-.59-.52 0-1.04.2-1.43.59L10.3 9.45l-7.72 7.72c-.78.78-.78 2.05 0 2.83L4 21.41c.39.39.9.59 1.41.59.51 0 1.02-.2 1.41-.59l7.78-7.78 2.81-2.81c.8-.78.8-2.07 0-2.86zM5.41 20L4 18.59l7.72-7.72 1.47 1.35L5.41 20z\"/>\n",
              "  </svg>\n",
              "      </button>\n",
              "      \n",
              "  <style>\n",
              "    .colab-df-container {\n",
              "      display:flex;\n",
              "      flex-wrap:wrap;\n",
              "      gap: 12px;\n",
              "    }\n",
              "\n",
              "    .colab-df-convert {\n",
              "      background-color: #E8F0FE;\n",
              "      border: none;\n",
              "      border-radius: 50%;\n",
              "      cursor: pointer;\n",
              "      display: none;\n",
              "      fill: #1967D2;\n",
              "      height: 32px;\n",
              "      padding: 0 0 0 0;\n",
              "      width: 32px;\n",
              "    }\n",
              "\n",
              "    .colab-df-convert:hover {\n",
              "      background-color: #E2EBFA;\n",
              "      box-shadow: 0px 1px 2px rgba(60, 64, 67, 0.3), 0px 1px 3px 1px rgba(60, 64, 67, 0.15);\n",
              "      fill: #174EA6;\n",
              "    }\n",
              "\n",
              "    [theme=dark] .colab-df-convert {\n",
              "      background-color: #3B4455;\n",
              "      fill: #D2E3FC;\n",
              "    }\n",
              "\n",
              "    [theme=dark] .colab-df-convert:hover {\n",
              "      background-color: #434B5C;\n",
              "      box-shadow: 0px 1px 3px 1px rgba(0, 0, 0, 0.15);\n",
              "      filter: drop-shadow(0px 1px 2px rgba(0, 0, 0, 0.3));\n",
              "      fill: #FFFFFF;\n",
              "    }\n",
              "  </style>\n",
              "\n",
              "      <script>\n",
              "        const buttonEl =\n",
              "          document.querySelector('#df-572bc45c-f528-48ee-b596-1595629d3384 button.colab-df-convert');\n",
              "        buttonEl.style.display =\n",
              "          google.colab.kernel.accessAllowed ? 'block' : 'none';\n",
              "\n",
              "        async function convertToInteractive(key) {\n",
              "          const element = document.querySelector('#df-572bc45c-f528-48ee-b596-1595629d3384');\n",
              "          const dataTable =\n",
              "            await google.colab.kernel.invokeFunction('convertToInteractive',\n",
              "                                                     [key], {});\n",
              "          if (!dataTable) return;\n",
              "\n",
              "          const docLinkHtml = 'Like what you see? Visit the ' +\n",
              "            '<a target=\"_blank\" href=https://colab.research.google.com/notebooks/data_table.ipynb>data table notebook</a>'\n",
              "            + ' to learn more about interactive tables.';\n",
              "          element.innerHTML = '';\n",
              "          dataTable['output_type'] = 'display_data';\n",
              "          await google.colab.output.renderOutput(dataTable, element);\n",
              "          const docLink = document.createElement('div');\n",
              "          docLink.innerHTML = docLinkHtml;\n",
              "          element.appendChild(docLink);\n",
              "        }\n",
              "      </script>\n",
              "    </div>\n",
              "  </div>\n",
              "  "
            ]
          },
          "metadata": {},
          "execution_count": 32
        }
      ]
    },
    {
      "cell_type": "code",
      "source": [
        "df[ '5_rolling_avg' ] = df.Random_data.rolling(5).mean() \n",
        "df"
      ],
      "metadata": {
        "id": "_FhJP4Y44Lyn",
        "outputId": "6661215b-61cb-4cb9-839a-4ebe0a0de8cc",
        "colab": {
          "base_uri": "https://localhost:8080/"
        }
      },
      "execution_count": null,
      "outputs": [
        {
          "output_type": "execute_result",
          "data": {
            "text/plain": [
              "    Random_data  5_rolling_avg\n",
              "0            37            NaN\n",
              "1            12            NaN\n",
              "2            72            NaN\n",
              "3             9            NaN\n",
              "4            75           41.0\n",
              "..          ...            ...\n",
              "95           23           50.2\n",
              "96           55           48.8\n",
              "97           65           52.6\n",
              "98           77           61.6\n",
              "99            3           44.6\n",
              "\n",
              "[100 rows x 2 columns]"
            ],
            "text/html": [
              "\n",
              "  <div id=\"df-2bcbdfa6-cb66-4278-9013-aeef0f3505a8\">\n",
              "    <div class=\"colab-df-container\">\n",
              "      <div>\n",
              "<style scoped>\n",
              "    .dataframe tbody tr th:only-of-type {\n",
              "        vertical-align: middle;\n",
              "    }\n",
              "\n",
              "    .dataframe tbody tr th {\n",
              "        vertical-align: top;\n",
              "    }\n",
              "\n",
              "    .dataframe thead th {\n",
              "        text-align: right;\n",
              "    }\n",
              "</style>\n",
              "<table border=\"1\" class=\"dataframe\">\n",
              "  <thead>\n",
              "    <tr style=\"text-align: right;\">\n",
              "      <th></th>\n",
              "      <th>Random_data</th>\n",
              "      <th>5_rolling_avg</th>\n",
              "    </tr>\n",
              "  </thead>\n",
              "  <tbody>\n",
              "    <tr>\n",
              "      <th>0</th>\n",
              "      <td>37</td>\n",
              "      <td>NaN</td>\n",
              "    </tr>\n",
              "    <tr>\n",
              "      <th>1</th>\n",
              "      <td>12</td>\n",
              "      <td>NaN</td>\n",
              "    </tr>\n",
              "    <tr>\n",
              "      <th>2</th>\n",
              "      <td>72</td>\n",
              "      <td>NaN</td>\n",
              "    </tr>\n",
              "    <tr>\n",
              "      <th>3</th>\n",
              "      <td>9</td>\n",
              "      <td>NaN</td>\n",
              "    </tr>\n",
              "    <tr>\n",
              "      <th>4</th>\n",
              "      <td>75</td>\n",
              "      <td>41.0</td>\n",
              "    </tr>\n",
              "    <tr>\n",
              "      <th>...</th>\n",
              "      <td>...</td>\n",
              "      <td>...</td>\n",
              "    </tr>\n",
              "    <tr>\n",
              "      <th>95</th>\n",
              "      <td>23</td>\n",
              "      <td>50.2</td>\n",
              "    </tr>\n",
              "    <tr>\n",
              "      <th>96</th>\n",
              "      <td>55</td>\n",
              "      <td>48.8</td>\n",
              "    </tr>\n",
              "    <tr>\n",
              "      <th>97</th>\n",
              "      <td>65</td>\n",
              "      <td>52.6</td>\n",
              "    </tr>\n",
              "    <tr>\n",
              "      <th>98</th>\n",
              "      <td>77</td>\n",
              "      <td>61.6</td>\n",
              "    </tr>\n",
              "    <tr>\n",
              "      <th>99</th>\n",
              "      <td>3</td>\n",
              "      <td>44.6</td>\n",
              "    </tr>\n",
              "  </tbody>\n",
              "</table>\n",
              "<p>100 rows × 2 columns</p>\n",
              "</div>\n",
              "      <button class=\"colab-df-convert\" onclick=\"convertToInteractive('df-2bcbdfa6-cb66-4278-9013-aeef0f3505a8')\"\n",
              "              title=\"Convert this dataframe to an interactive table.\"\n",
              "              style=\"display:none;\">\n",
              "        \n",
              "  <svg xmlns=\"http://www.w3.org/2000/svg\" height=\"24px\"viewBox=\"0 0 24 24\"\n",
              "       width=\"24px\">\n",
              "    <path d=\"M0 0h24v24H0V0z\" fill=\"none\"/>\n",
              "    <path d=\"M18.56 5.44l.94 2.06.94-2.06 2.06-.94-2.06-.94-.94-2.06-.94 2.06-2.06.94zm-11 1L8.5 8.5l.94-2.06 2.06-.94-2.06-.94L8.5 2.5l-.94 2.06-2.06.94zm10 10l.94 2.06.94-2.06 2.06-.94-2.06-.94-.94-2.06-.94 2.06-2.06.94z\"/><path d=\"M17.41 7.96l-1.37-1.37c-.4-.4-.92-.59-1.43-.59-.52 0-1.04.2-1.43.59L10.3 9.45l-7.72 7.72c-.78.78-.78 2.05 0 2.83L4 21.41c.39.39.9.59 1.41.59.51 0 1.02-.2 1.41-.59l7.78-7.78 2.81-2.81c.8-.78.8-2.07 0-2.86zM5.41 20L4 18.59l7.72-7.72 1.47 1.35L5.41 20z\"/>\n",
              "  </svg>\n",
              "      </button>\n",
              "      \n",
              "  <style>\n",
              "    .colab-df-container {\n",
              "      display:flex;\n",
              "      flex-wrap:wrap;\n",
              "      gap: 12px;\n",
              "    }\n",
              "\n",
              "    .colab-df-convert {\n",
              "      background-color: #E8F0FE;\n",
              "      border: none;\n",
              "      border-radius: 50%;\n",
              "      cursor: pointer;\n",
              "      display: none;\n",
              "      fill: #1967D2;\n",
              "      height: 32px;\n",
              "      padding: 0 0 0 0;\n",
              "      width: 32px;\n",
              "    }\n",
              "\n",
              "    .colab-df-convert:hover {\n",
              "      background-color: #E2EBFA;\n",
              "      box-shadow: 0px 1px 2px rgba(60, 64, 67, 0.3), 0px 1px 3px 1px rgba(60, 64, 67, 0.15);\n",
              "      fill: #174EA6;\n",
              "    }\n",
              "\n",
              "    [theme=dark] .colab-df-convert {\n",
              "      background-color: #3B4455;\n",
              "      fill: #D2E3FC;\n",
              "    }\n",
              "\n",
              "    [theme=dark] .colab-df-convert:hover {\n",
              "      background-color: #434B5C;\n",
              "      box-shadow: 0px 1px 3px 1px rgba(0, 0, 0, 0.15);\n",
              "      filter: drop-shadow(0px 1px 2px rgba(0, 0, 0, 0.3));\n",
              "      fill: #FFFFFF;\n",
              "    }\n",
              "  </style>\n",
              "\n",
              "      <script>\n",
              "        const buttonEl =\n",
              "          document.querySelector('#df-2bcbdfa6-cb66-4278-9013-aeef0f3505a8 button.colab-df-convert');\n",
              "        buttonEl.style.display =\n",
              "          google.colab.kernel.accessAllowed ? 'block' : 'none';\n",
              "\n",
              "        async function convertToInteractive(key) {\n",
              "          const element = document.querySelector('#df-2bcbdfa6-cb66-4278-9013-aeef0f3505a8');\n",
              "          const dataTable =\n",
              "            await google.colab.kernel.invokeFunction('convertToInteractive',\n",
              "                                                     [key], {});\n",
              "          if (!dataTable) return;\n",
              "\n",
              "          const docLinkHtml = 'Like what you see? Visit the ' +\n",
              "            '<a target=\"_blank\" href=https://colab.research.google.com/notebooks/data_table.ipynb>data table notebook</a>'\n",
              "            + ' to learn more about interactive tables.';\n",
              "          element.innerHTML = '';\n",
              "          dataTable['output_type'] = 'display_data';\n",
              "          await google.colab.output.renderOutput(dataTable, element);\n",
              "          const docLink = document.createElement('div');\n",
              "          docLink.innerHTML = docLinkHtml;\n",
              "          element.appendChild(docLink);\n",
              "        }\n",
              "      </script>\n",
              "    </div>\n",
              "  </div>\n",
              "  "
            ]
          },
          "metadata": {},
          "execution_count": 33
        }
      ]
    },
    {
      "cell_type": "code",
      "source": [
        "sns.relplot(kind = 'line', data=df, height=3, aspect=7);"
      ],
      "metadata": {
        "id": "tU3D-m1rwJ9F",
        "outputId": "d3c904ee-db8c-436c-afca-7b02ff59af5a",
        "colab": {
          "base_uri": "https://localhost:8080/"
        }
      },
      "execution_count": null,
      "outputs": [
        {
          "output_type": "display_data",
          "data": {
            "text/plain": [
              "<Figure size 1616.62x216 with 1 Axes>"
            ],
            "image/png": "[encoded data removed]"
          },
          "metadata": {
            "needs_background": "light"
          }
        }
      ]
    }
  ]
}